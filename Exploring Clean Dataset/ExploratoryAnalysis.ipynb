{
 "cells": [
  {
   "cell_type": "markdown",
   "id": "b4f172a4-4aab-4c0c-a1dc-5005ea957d38",
   "metadata": {},
   "source": [
    "# Exploratory Analysis"
   ]
  },
  {
   "cell_type": "markdown",
   "id": "6743aed1-6605-4c9f-b655-85dba2c280a3",
   "metadata": {},
   "source": [
    "After obtaining a clean dataset, I will explore it the dataset. My exploratory analysis aims to gain a better understanding of my data."
   ]
  },
  {
   "cell_type": "code",
   "execution_count": 1,
   "id": "6c0ac954-6826-4619-a358-569f9797077b",
   "metadata": {},
   "outputs": [],
   "source": [
    "import numpy as np \n",
    "import pandas as pd \n",
    "import matplotlib.pyplot as plt\n",
    "from matplotlib.pyplot import figure\n",
    "import seaborn as sb\n",
    "from scipy import stats\n",
    "from scipy.stats import ttest_ind"
   ]
  },
  {
   "cell_type": "code",
   "execution_count": 2,
   "id": "f820229f-417d-4436-af6d-b45042562698",
   "metadata": {},
   "outputs": [],
   "source": [
    "GooglePlay = pd.read_csv(\"C:/Users/brend/Documents/GitHub/Play-Store-Exploratory-Analysis/Datasets/CleanData.csv\")\n",
    "GooglePlay = GooglePlay.iloc[:,1:]"
   ]
  },
  {
   "cell_type": "code",
   "execution_count": 3,
   "id": "951ef857-ba24-40dc-a150-4abae24ea233",
   "metadata": {},
   "outputs": [
    {
     "data": {
      "text/html": [
       "<div>\n",
       "<style scoped>\n",
       "    .dataframe tbody tr th:only-of-type {\n",
       "        vertical-align: middle;\n",
       "    }\n",
       "\n",
       "    .dataframe tbody tr th {\n",
       "        vertical-align: top;\n",
       "    }\n",
       "\n",
       "    .dataframe thead th {\n",
       "        text-align: right;\n",
       "    }\n",
       "</style>\n",
       "<table border=\"1\" class=\"dataframe\">\n",
       "  <thead>\n",
       "    <tr style=\"text-align: right;\">\n",
       "      <th></th>\n",
       "      <th>category</th>\n",
       "      <th>reviews</th>\n",
       "      <th>installs</th>\n",
       "      <th>price</th>\n",
       "      <th>content_rating</th>\n",
       "      <th>update_year</th>\n",
       "      <th>ratingR</th>\n",
       "    </tr>\n",
       "  </thead>\n",
       "  <tbody>\n",
       "    <tr>\n",
       "      <th>0</th>\n",
       "      <td>ART_AND_DESIGN</td>\n",
       "      <td>159</td>\n",
       "      <td>10000</td>\n",
       "      <td>0.0</td>\n",
       "      <td>Everyone</td>\n",
       "      <td>2018</td>\n",
       "      <td>4.1</td>\n",
       "    </tr>\n",
       "    <tr>\n",
       "      <th>1</th>\n",
       "      <td>ART_AND_DESIGN</td>\n",
       "      <td>967</td>\n",
       "      <td>500000</td>\n",
       "      <td>0.0</td>\n",
       "      <td>Everyone</td>\n",
       "      <td>2018</td>\n",
       "      <td>3.9</td>\n",
       "    </tr>\n",
       "    <tr>\n",
       "      <th>2</th>\n",
       "      <td>ART_AND_DESIGN</td>\n",
       "      <td>87510</td>\n",
       "      <td>5000000</td>\n",
       "      <td>0.0</td>\n",
       "      <td>Everyone</td>\n",
       "      <td>2018</td>\n",
       "      <td>4.7</td>\n",
       "    </tr>\n",
       "    <tr>\n",
       "      <th>3</th>\n",
       "      <td>ART_AND_DESIGN</td>\n",
       "      <td>215644</td>\n",
       "      <td>50000000</td>\n",
       "      <td>0.0</td>\n",
       "      <td>Teen</td>\n",
       "      <td>2018</td>\n",
       "      <td>4.5</td>\n",
       "    </tr>\n",
       "    <tr>\n",
       "      <th>4</th>\n",
       "      <td>ART_AND_DESIGN</td>\n",
       "      <td>967</td>\n",
       "      <td>100000</td>\n",
       "      <td>0.0</td>\n",
       "      <td>Everyone</td>\n",
       "      <td>2018</td>\n",
       "      <td>4.3</td>\n",
       "    </tr>\n",
       "  </tbody>\n",
       "</table>\n",
       "</div>"
      ],
      "text/plain": [
       "         category  reviews  installs  price content_rating  update_year  \\\n",
       "0  ART_AND_DESIGN      159     10000    0.0       Everyone         2018   \n",
       "1  ART_AND_DESIGN      967    500000    0.0       Everyone         2018   \n",
       "2  ART_AND_DESIGN    87510   5000000    0.0       Everyone         2018   \n",
       "3  ART_AND_DESIGN   215644  50000000    0.0           Teen         2018   \n",
       "4  ART_AND_DESIGN      967    100000    0.0       Everyone         2018   \n",
       "\n",
       "   ratingR  \n",
       "0      4.1  \n",
       "1      3.9  \n",
       "2      4.7  \n",
       "3      4.5  \n",
       "4      4.3  "
      ]
     },
     "execution_count": 3,
     "metadata": {},
     "output_type": "execute_result"
    }
   ],
   "source": [
    "GooglePlay.head()"
   ]
  },
  {
   "cell_type": "code",
   "execution_count": 17,
   "id": "658c3de8-3ae2-4dda-8c4b-f411d02a4dde",
   "metadata": {},
   "outputs": [],
   "source": [
    "# Used to look at the data type of each column."
   ]
  },
  {
   "cell_type": "code",
   "execution_count": 18,
   "id": "cb42172d-b85a-498f-81fb-0e4b79bca712",
   "metadata": {},
   "outputs": [
    {
     "name": "stdout",
     "output_type": "stream",
     "text": [
      "<class 'pandas.core.frame.DataFrame'>\n",
      "RangeIndex: 9658 entries, 0 to 9657\n",
      "Data columns (total 7 columns):\n",
      " #   Column          Non-Null Count  Dtype  \n",
      "---  ------          --------------  -----  \n",
      " 0   category        9658 non-null   object \n",
      " 1   reviews         9658 non-null   int64  \n",
      " 2   installs        9658 non-null   int64  \n",
      " 3   price           9658 non-null   float64\n",
      " 4   content_rating  9658 non-null   object \n",
      " 5   update_year     9658 non-null   int64  \n",
      " 6   ratingR         9658 non-null   float64\n",
      "dtypes: float64(2), int64(3), object(2)\n",
      "memory usage: 528.3+ KB\n"
     ]
    }
   ],
   "source": [
    "GooglePlay.info()    "
   ]
  },
  {
   "cell_type": "markdown",
   "id": "28558c4f-9a01-4039-893f-78eef689d737",
   "metadata": {},
   "source": [
    "It might be necessary to change the data type for some analyses, but I will move forward with my exploratory analysis."
   ]
  },
  {
   "cell_type": "code",
   "execution_count": 19,
   "id": "c2c1a161-9358-4fb6-9b09-7ca8f53eb920",
   "metadata": {},
   "outputs": [],
   "source": [
    "# Shows how many rows and columns the dataset has."
   ]
  },
  {
   "cell_type": "code",
   "execution_count": 20,
   "id": "b0c4a734-63e0-4f01-9999-97ce92225c79",
   "metadata": {},
   "outputs": [
    {
     "name": "stdout",
     "output_type": "stream",
     "text": [
      "Rows: 9658\n",
      "Columns: 7\n"
     ]
    }
   ],
   "source": [
    "print(f'Rows: {GooglePlay.shape[0]}')\n",
    "print(f'Columns: {GooglePlay.shape[1]}')  "
   ]
  },
  {
   "cell_type": "code",
   "execution_count": 21,
   "id": "0543c7b3-e36f-4a20-90c2-431f154201a9",
   "metadata": {},
   "outputs": [],
   "source": [
    "# Shows the range of years the apps were last updated."
   ]
  },
  {
   "cell_type": "code",
   "execution_count": 6,
   "id": "ea4cb1d5-b3db-4ba1-87a9-c6ba98a753d3",
   "metadata": {},
   "outputs": [
    {
     "data": {
      "text/plain": [
       "array([2018, 2017, 2014, 2016, 2015, 2013, 2012, 2011, 2010], dtype=int64)"
      ]
     },
     "execution_count": 6,
     "metadata": {},
     "output_type": "execute_result"
    }
   ],
   "source": [
    "GooglePlay.update_year.unique() "
   ]
  },
  {
   "cell_type": "code",
   "execution_count": 7,
   "id": "06f89362-783b-4977-a92d-f6cd46310000",
   "metadata": {},
   "outputs": [
    {
     "data": {
      "text/plain": [
       "2018    6283\n",
       "2017    1794\n",
       "2016     779\n",
       "2015     449\n",
       "2014     203\n",
       "2013     108\n",
       "2012      26\n",
       "2011      15\n",
       "2010       1\n",
       "Name: update_year, dtype: int64"
      ]
     },
     "execution_count": 7,
     "metadata": {},
     "output_type": "execute_result"
    }
   ],
   "source": [
    "GooglePlay.update_year.value_counts()"
   ]
  },
  {
   "cell_type": "markdown",
   "id": "72b7aa3e-7fcf-4933-890b-860dda03a3e2",
   "metadata": {},
   "source": [
    "Using this dataset, most apps were created between 2010 and 2018, with most of them updated later in the decade. "
   ]
  },
  {
   "cell_type": "code",
   "execution_count": 22,
   "id": "39811ecb-5e8e-4ee6-8183-b743a60c585e",
   "metadata": {},
   "outputs": [],
   "source": [
    "# Looks at the different content ratings"
   ]
  },
  {
   "cell_type": "code",
   "execution_count": 8,
   "id": "01d6efa3-c049-46ff-99de-b933cf04d124",
   "metadata": {},
   "outputs": [
    {
     "data": {
      "text/plain": [
       "array(['Everyone', 'Teen', 'Everyone 10+', 'Mature 17+',\n",
       "       'Adults only 18+', 'Unrated'], dtype=object)"
      ]
     },
     "execution_count": 8,
     "metadata": {},
     "output_type": "execute_result"
    }
   ],
   "source": [
    "GooglePlay.content_rating.unique() "
   ]
  },
  {
   "cell_type": "code",
   "execution_count": 23,
   "id": "650a27d8-ed09-4642-aeb9-83ee32abe90c",
   "metadata": {},
   "outputs": [],
   "source": [
    " # Each category is shown along with how many values it has."
   ]
  },
  {
   "cell_type": "code",
   "execution_count": 9,
   "id": "c28d6284-1164-46d1-a2b8-e53ae74d89d9",
   "metadata": {},
   "outputs": [
    {
     "data": {
      "text/plain": [
       "Everyone           7903\n",
       "Teen               1036\n",
       "Mature 17+          393\n",
       "Everyone 10+        321\n",
       "Adults only 18+       3\n",
       "Unrated               2\n",
       "Name: content_rating, dtype: int64"
      ]
     },
     "execution_count": 9,
     "metadata": {},
     "output_type": "execute_result"
    }
   ],
   "source": [
    "GooglePlay.content_rating.value_counts()"
   ]
  },
  {
   "cell_type": "markdown",
   "id": "63487016-ed3f-47e1-a957-813c1eba4530",
   "metadata": {},
   "source": [
    "In this dataset, most apps are rated 'Everyone' and only one is unrated. If analysis calls for ratings, 'Adults only 18+' and 'Unrated' can be grouped with other ratings."
   ]
  },
  {
   "cell_type": "code",
   "execution_count": 24,
   "id": "ce79caa0-cc39-4515-9d7b-dc1251d52f18",
   "metadata": {},
   "outputs": [],
   "source": [
    " # Each category grouped along with how many values it has."
   ]
  },
  {
   "cell_type": "code",
   "execution_count": 10,
   "id": "e7fa57f1-36e2-4249-8211-10fe148a10a9",
   "metadata": {},
   "outputs": [
    {
     "data": {
      "text/plain": [
       "FAMILY                 1831\n",
       "GAME                    959\n",
       "TOOLS                   827\n",
       "BUSINESS                420\n",
       "MEDICAL                 395\n",
       "PERSONALIZATION         376\n",
       "PRODUCTIVITY            374\n",
       "LIFESTYLE               369\n",
       "FINANCE                 345\n",
       "SPORTS                  325\n",
       "COMMUNICATION           315\n",
       "HEALTH_AND_FITNESS      288\n",
       "PHOTOGRAPHY             281\n",
       "NEWS_AND_MAGAZINES      254\n",
       "SOCIAL                  239\n",
       "BOOKS_AND_REFERENCE     222\n",
       "TRAVEL_AND_LOCAL        219\n",
       "SHOPPING                202\n",
       "DATING                  171\n",
       "VIDEO_PLAYERS           163\n",
       "MAPS_AND_NAVIGATION     131\n",
       "EDUCATION               119\n",
       "FOOD_AND_DRINK          112\n",
       "ENTERTAINMENT           102\n",
       "AUTO_AND_VEHICLES        85\n",
       "LIBRARIES_AND_DEMO       84\n",
       "WEATHER                  79\n",
       "HOUSE_AND_HOME           74\n",
       "EVENTS                   64\n",
       "ART_AND_DESIGN           64\n",
       "PARENTING                60\n",
       "COMICS                   56\n",
       "BEAUTY                   53\n",
       "Name: category, dtype: int64"
      ]
     },
     "execution_count": 10,
     "metadata": {},
     "output_type": "execute_result"
    }
   ],
   "source": [
    "GooglePlay.category.value_counts()"
   ]
  },
  {
   "cell_type": "markdown",
   "id": "606f3676-647a-439a-9c57-e752f0cf700e",
   "metadata": {},
   "source": [
    "'Family','Game', and 'Tools' categories have the most values in this dataset."
   ]
  },
  {
   "cell_type": "code",
   "execution_count": 25,
   "id": "2f9d5c4b-f6f9-4c02-8e35-5462130a0e9c",
   "metadata": {},
   "outputs": [],
   "source": [
    "# Each shows the ratings and how many apps with those ratings. "
   ]
  },
  {
   "cell_type": "code",
   "execution_count": 11,
   "id": "05ed5b9b-c2b5-4a62-883d-7c5834862888",
   "metadata": {},
   "outputs": [
    {
     "data": {
      "text/plain": [
       "4.300000    907\n",
       "4.400000    895\n",
       "4.500000    848\n",
       "4.200000    810\n",
       "4.600000    683\n",
       "           ... \n",
       "1.400000      3\n",
       "1.500000      3\n",
       "4.181481      2\n",
       "4.364407      1\n",
       "1.200000      1\n",
       "Name: ratingR, Length: 70, dtype: int64"
      ]
     },
     "execution_count": 11,
     "metadata": {},
     "output_type": "execute_result"
    }
   ],
   "source": [
    "GooglePlay.ratingR.value_counts() "
   ]
  },
  {
   "cell_type": "code",
   "execution_count": 12,
   "id": "cc73e085-1321-4841-9cb8-a10f258f5b00",
   "metadata": {},
   "outputs": [
    {
     "data": {
      "text/plain": [
       "0.00      8902\n",
       "0.99       145\n",
       "2.99       124\n",
       "1.99        73\n",
       "4.99        70\n",
       "          ... \n",
       "18.99        1\n",
       "389.99       1\n",
       "19.90        1\n",
       "1.75         1\n",
       "1.04         1\n",
       "Name: price, Length: 92, dtype: int64"
      ]
     },
     "execution_count": 12,
     "metadata": {},
     "output_type": "execute_result"
    }
   ],
   "source": [
    "GooglePlay.price.value_counts()"
   ]
  },
  {
   "cell_type": "code",
   "execution_count": 26,
   "id": "5ce11d17-4efb-40e6-b526-9730f980cd95",
   "metadata": {},
   "outputs": [],
   "source": [
    " # Used to look at the mean, std, min, max, etc. of continous values"
   ]
  },
  {
   "cell_type": "code",
   "execution_count": 13,
   "id": "18cbaaec-3fed-4f48-b5f0-d3f223fccdf6",
   "metadata": {},
   "outputs": [
    {
     "data": {
      "text/html": [
       "<div>\n",
       "<style scoped>\n",
       "    .dataframe tbody tr th:only-of-type {\n",
       "        vertical-align: middle;\n",
       "    }\n",
       "\n",
       "    .dataframe tbody tr th {\n",
       "        vertical-align: top;\n",
       "    }\n",
       "\n",
       "    .dataframe thead th {\n",
       "        text-align: right;\n",
       "    }\n",
       "</style>\n",
       "<table border=\"1\" class=\"dataframe\">\n",
       "  <thead>\n",
       "    <tr style=\"text-align: right;\">\n",
       "      <th></th>\n",
       "      <th>reviews</th>\n",
       "      <th>installs</th>\n",
       "      <th>price</th>\n",
       "      <th>update_year</th>\n",
       "      <th>ratingR</th>\n",
       "    </tr>\n",
       "  </thead>\n",
       "  <tbody>\n",
       "    <tr>\n",
       "      <th>count</th>\n",
       "      <td>9.658000e+03</td>\n",
       "      <td>9.658000e+03</td>\n",
       "      <td>9658.000000</td>\n",
       "      <td>9658.00000</td>\n",
       "      <td>9658.000000</td>\n",
       "    </tr>\n",
       "    <tr>\n",
       "      <th>mean</th>\n",
       "      <td>2.166150e+05</td>\n",
       "      <td>7.778312e+06</td>\n",
       "      <td>1.099413</td>\n",
       "      <td>2017.34562</td>\n",
       "      <td>4.172229</td>\n",
       "    </tr>\n",
       "    <tr>\n",
       "      <th>std</th>\n",
       "      <td>1.831413e+06</td>\n",
       "      <td>5.376100e+07</td>\n",
       "      <td>16.853021</td>\n",
       "      <td>1.13764</td>\n",
       "      <td>0.495618</td>\n",
       "    </tr>\n",
       "    <tr>\n",
       "      <th>min</th>\n",
       "      <td>0.000000e+00</td>\n",
       "      <td>0.000000e+00</td>\n",
       "      <td>0.000000</td>\n",
       "      <td>2010.00000</td>\n",
       "      <td>1.000000</td>\n",
       "    </tr>\n",
       "    <tr>\n",
       "      <th>25%</th>\n",
       "      <td>2.500000e+01</td>\n",
       "      <td>1.000000e+03</td>\n",
       "      <td>0.000000</td>\n",
       "      <td>2017.00000</td>\n",
       "      <td>4.000000</td>\n",
       "    </tr>\n",
       "    <tr>\n",
       "      <th>50%</th>\n",
       "      <td>9.670000e+02</td>\n",
       "      <td>1.000000e+05</td>\n",
       "      <td>0.000000</td>\n",
       "      <td>2018.00000</td>\n",
       "      <td>4.200000</td>\n",
       "    </tr>\n",
       "    <tr>\n",
       "      <th>75%</th>\n",
       "      <td>2.940800e+04</td>\n",
       "      <td>1.000000e+06</td>\n",
       "      <td>0.000000</td>\n",
       "      <td>2018.00000</td>\n",
       "      <td>4.500000</td>\n",
       "    </tr>\n",
       "    <tr>\n",
       "      <th>max</th>\n",
       "      <td>7.815831e+07</td>\n",
       "      <td>1.000000e+09</td>\n",
       "      <td>400.000000</td>\n",
       "      <td>2018.00000</td>\n",
       "      <td>5.000000</td>\n",
       "    </tr>\n",
       "  </tbody>\n",
       "</table>\n",
       "</div>"
      ],
      "text/plain": [
       "            reviews      installs        price  update_year      ratingR\n",
       "count  9.658000e+03  9.658000e+03  9658.000000   9658.00000  9658.000000\n",
       "mean   2.166150e+05  7.778312e+06     1.099413   2017.34562     4.172229\n",
       "std    1.831413e+06  5.376100e+07    16.853021      1.13764     0.495618\n",
       "min    0.000000e+00  0.000000e+00     0.000000   2010.00000     1.000000\n",
       "25%    2.500000e+01  1.000000e+03     0.000000   2017.00000     4.000000\n",
       "50%    9.670000e+02  1.000000e+05     0.000000   2018.00000     4.200000\n",
       "75%    2.940800e+04  1.000000e+06     0.000000   2018.00000     4.500000\n",
       "max    7.815831e+07  1.000000e+09   400.000000   2018.00000     5.000000"
      ]
     },
     "execution_count": 13,
     "metadata": {},
     "output_type": "execute_result"
    }
   ],
   "source": [
    "GooglePlay.describe()         "
   ]
  },
  {
   "cell_type": "code",
   "execution_count": 27,
   "id": "ee727e97-f797-4a32-84d7-c4b21b7eef78",
   "metadata": {},
   "outputs": [],
   "source": [
    "# Shows each categories with their average ratings."
   ]
  },
  {
   "cell_type": "code",
   "execution_count": 14,
   "id": "6aaf5ce1-9281-42ee-b3c3-e0785fe3351e",
   "metadata": {},
   "outputs": [
    {
     "data": {
      "text/plain": [
       "category\n",
       "EVENTS                 4.435556\n",
       "EDUCATION              4.364407\n",
       "ART_AND_DESIGN         4.357377\n",
       "BOOKS_AND_REFERENCE    4.344970\n",
       "PERSONALIZATION        4.332215\n",
       "PARENTING              4.300000\n",
       "BEAUTY                 4.278571\n",
       "GAME                   4.247368\n",
       "SOCIAL                 4.247291\n",
       "WEATHER                4.243056\n",
       "HEALTH_AND_FITNESS     4.243033\n",
       "SHOPPING               4.230000\n",
       "SPORTS                 4.216154\n",
       "AUTO_AND_VEHICLES      4.190411\n",
       "PRODUCTIVITY           4.183389\n",
       "COMICS                 4.181481\n",
       "FAMILY                 4.179664\n",
       "LIBRARIES_AND_DEMO     4.178125\n",
       "FOOD_AND_DRINK         4.172340\n",
       "MEDICAL                4.166552\n",
       "PHOTOGRAPHY            4.157414\n",
       "HOUSE_AND_HOME         4.150000\n",
       "ENTERTAINMENT          4.135294\n",
       "NEWS_AND_MAGAZINES     4.121569\n",
       "COMMUNICATION          4.121484\n",
       "FINANCE                4.115563\n",
       "BUSINESS               4.098479\n",
       "LIFESTYLE              4.093355\n",
       "TRAVEL_AND_LOCAL       4.069519\n",
       "VIDEO_PLAYERS          4.044595\n",
       "TOOLS                  4.039554\n",
       "MAPS_AND_NAVIGATION    4.036441\n",
       "DATING                 3.970149\n",
       "Name: ratingR, dtype: float64"
      ]
     },
     "execution_count": 14,
     "metadata": {},
     "output_type": "execute_result"
    }
   ],
   "source": [
    "GooglePlay.groupby('category')['ratingR'].mean().sort_values(ascending=False) "
   ]
  },
  {
   "cell_type": "markdown",
   "id": "6b48950c-97a6-4de1-8bfa-faad8dd0276e",
   "metadata": {},
   "source": [
    "The categories with the highest ratings are 'Events','Education', and 'Art_and_Design'."
   ]
  },
  {
   "cell_type": "code",
   "execution_count": 28,
   "id": "9995298d-9e65-466d-92ec-7e14f6b12eee",
   "metadata": {},
   "outputs": [],
   "source": [
    "# Shows each category with total installs."
   ]
  },
  {
   "cell_type": "code",
   "execution_count": 15,
   "id": "afc0735b-b8c3-4842-9534-d906465c52f6",
   "metadata": {},
   "outputs": [
    {
     "data": {
      "text/plain": [
       "category\n",
       "GAME                   13878924415\n",
       "COMMUNICATION          11038276251\n",
       "TOOLS                   8001771915\n",
       "PRODUCTIVITY            5793091369\n",
       "SOCIAL                  5487867902\n",
       "PHOTOGRAPHY             4649147655\n",
       "FAMILY                  4427941505\n",
       "VIDEO_PLAYERS           3926902720\n",
       "TRAVEL_AND_LOCAL        2894887146\n",
       "NEWS_AND_MAGAZINES      2369217760\n",
       "ENTERTAINMENT           2113660000\n",
       "BOOKS_AND_REFERENCE     1665969576\n",
       "PERSONALIZATION         1532494782\n",
       "SHOPPING                1400348785\n",
       "HEALTH_AND_FITNESS      1144022512\n",
       "SPORTS                  1096474498\n",
       "BUSINESS                 697164865\n",
       "LIFESTYLE                503823539\n",
       "MAPS_AND_NAVIGATION      503281890\n",
       "FINANCE                  455348734\n",
       "WEATHER                  361100520\n",
       "EDUCATION                352952000\n",
       "FOOD_AND_DRINK           211798751\n",
       "DATING                   140926107\n",
       "ART_AND_DESIGN           114338100\n",
       "HOUSE_AND_HOME            97212461\n",
       "AUTO_AND_VEHICLES         53130211\n",
       "LIBRARIES_AND_DEMO        52995910\n",
       "COMICS                    44981150\n",
       "MEDICAL                   38193177\n",
       "PARENTING                 31521110\n",
       "BEAUTY                    27197050\n",
       "EVENTS                    15973161\n",
       "Name: installs, dtype: int64"
      ]
     },
     "execution_count": 15,
     "metadata": {},
     "output_type": "execute_result"
    }
   ],
   "source": [
    "GooglePlay.groupby('category')['installs'].sum().sort_values(ascending=False) "
   ]
  },
  {
   "cell_type": "markdown",
   "id": "6558a073-485a-4ce1-bede-a84f7b29791d",
   "metadata": {},
   "source": [
    "The categories with the most installs are 'Games','Family', and 'Tools'."
   ]
  },
  {
   "cell_type": "code",
   "execution_count": 29,
   "id": "ec3c25ae-2388-4fa2-af61-837ce437cd71",
   "metadata": {},
   "outputs": [],
   "source": [
    "# Shows total reviews for each category. "
   ]
  },
  {
   "cell_type": "code",
   "execution_count": 16,
   "id": "19d6ddee-84b9-4f94-bdde-ca13ae839429",
   "metadata": {},
   "outputs": [
    {
     "data": {
      "text/plain": [
       "category\n",
       "GAME                   622298709\n",
       "COMMUNICATION          285811368\n",
       "TOOLS                  229356578\n",
       "SOCIAL                 227927801\n",
       "FAMILY                 143825488\n",
       "PHOTOGRAPHY            105351270\n",
       "VIDEO_PLAYERS           67484568\n",
       "PRODUCTIVITY            55590649\n",
       "PERSONALIZATION         53543080\n",
       "SHOPPING                44551730\n",
       "SPORTS                  35348813\n",
       "ENTERTAINMENT           34762650\n",
       "TRAVEL_AND_LOCAL        26819741\n",
       "NEWS_AND_MAGAZINES      23130228\n",
       "HEALTH_AND_FITNESS      21361355\n",
       "MAPS_AND_NAVIGATION     17729148\n",
       "BOOKS_AND_REFERENCE     16721314\n",
       "EDUCATION               13364148\n",
       "FINANCE                 12662106\n",
       "WEATHER                 12295164\n",
       "LIFESTYLE               11832671\n",
       "BUSINESS                 9890245\n",
       "FOOD_AND_DRINK           6325028\n",
       "DATING                   3623544\n",
       "COMICS                   2342071\n",
       "HOUSE_AND_HOME           1929847\n",
       "ART_AND_DESIGN           1419203\n",
       "MEDICAL                  1182971\n",
       "AUTO_AND_VEHICLES        1163666\n",
       "PARENTING                 958331\n",
       "LIBRARIES_AND_DEMO        906831\n",
       "BEAUTY                    396240\n",
       "EVENTS                    161018\n",
       "Name: reviews, dtype: int64"
      ]
     },
     "execution_count": 16,
     "metadata": {},
     "output_type": "execute_result"
    }
   ],
   "source": [
    "GooglePlay.groupby('category')['reviews'].sum().sort_values(ascending=False) "
   ]
  },
  {
   "cell_type": "markdown",
   "id": "cb05c70b-c0be-4eaf-a759-396b0cc175a1",
   "metadata": {},
   "source": [
    "The categories with the most reviews are 'Games','Family', and 'Tools'."
   ]
  }
 ],
 "metadata": {
  "kernelspec": {
   "display_name": "Python 3 (ipykernel)",
   "language": "python",
   "name": "python3"
  },
  "language_info": {
   "codemirror_mode": {
    "name": "ipython",
    "version": 3
   },
   "file_extension": ".py",
   "mimetype": "text/x-python",
   "name": "python",
   "nbconvert_exporter": "python",
   "pygments_lexer": "ipython3",
   "version": "3.10.5"
  }
 },
 "nbformat": 4,
 "nbformat_minor": 5
}
