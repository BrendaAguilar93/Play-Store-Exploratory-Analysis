{
 "cells": [
  {
   "cell_type": "markdown",
   "id": "b4f172a4-4aab-4c0c-a1dc-5005ea957d38",
   "metadata": {},
   "source": [
    "# Exploratory Analysis"
   ]
  },
  {
   "cell_type": "markdown",
   "id": "6743aed1-6605-4c9f-b655-85dba2c280a3",
   "metadata": {},
   "source": [
    "After obtaining a clean dataset, I will explore it the dataset. My exploratory analysis aims to gain a better understanding of my data."
   ]
  },
  {
   "cell_type": "code",
   "execution_count": 2,
   "id": "6c0ac954-6826-4619-a358-569f9797077b",
   "metadata": {},
   "outputs": [],
   "source": [
    "import numpy as np \n",
    "import pandas as pd \n",
    "import matplotlib.pyplot as plt\n",
    "from matplotlib.pyplot import figure\n",
    "import seaborn as sb\n",
    "from scipy import stats\n",
    "from scipy.stats import ttest_ind"
   ]
  },
  {
   "cell_type": "code",
   "execution_count": 3,
   "id": "f820229f-417d-4436-af6d-b45042562698",
   "metadata": {},
   "outputs": [],
   "source": [
    "GooglePlay = pd.read_csv(\"C:/Users/brend/Documents/GitHub/Play-Store-Exploratory-Analysis/Datasets/CleanData.csv\")\n",
    "GooglePlay = GooglePlay.iloc[:,1:]"
   ]
  },
  {
   "cell_type": "code",
   "execution_count": 4,
   "id": "951ef857-ba24-40dc-a150-4abae24ea233",
   "metadata": {},
   "outputs": [
    {
     "data": {
      "text/html": [
       "<div>\n",
       "<style scoped>\n",
       "    .dataframe tbody tr th:only-of-type {\n",
       "        vertical-align: middle;\n",
       "    }\n",
       "\n",
       "    .dataframe tbody tr th {\n",
       "        vertical-align: top;\n",
       "    }\n",
       "\n",
       "    .dataframe thead th {\n",
       "        text-align: right;\n",
       "    }\n",
       "</style>\n",
       "<table border=\"1\" class=\"dataframe\">\n",
       "  <thead>\n",
       "    <tr style=\"text-align: right;\">\n",
       "      <th></th>\n",
       "      <th>category</th>\n",
       "      <th>reviews</th>\n",
       "      <th>installs</th>\n",
       "      <th>price</th>\n",
       "      <th>content_rating</th>\n",
       "      <th>update_year</th>\n",
       "      <th>ratingR</th>\n",
       "    </tr>\n",
       "  </thead>\n",
       "  <tbody>\n",
       "    <tr>\n",
       "      <th>0</th>\n",
       "      <td>ART_AND_DESIGN</td>\n",
       "      <td>159</td>\n",
       "      <td>10000</td>\n",
       "      <td>0.0</td>\n",
       "      <td>Everyone</td>\n",
       "      <td>2018</td>\n",
       "      <td>4.1</td>\n",
       "    </tr>\n",
       "    <tr>\n",
       "      <th>1</th>\n",
       "      <td>ART_AND_DESIGN</td>\n",
       "      <td>967</td>\n",
       "      <td>500000</td>\n",
       "      <td>0.0</td>\n",
       "      <td>Everyone</td>\n",
       "      <td>2018</td>\n",
       "      <td>3.9</td>\n",
       "    </tr>\n",
       "    <tr>\n",
       "      <th>2</th>\n",
       "      <td>ART_AND_DESIGN</td>\n",
       "      <td>87510</td>\n",
       "      <td>5000000</td>\n",
       "      <td>0.0</td>\n",
       "      <td>Everyone</td>\n",
       "      <td>2018</td>\n",
       "      <td>4.7</td>\n",
       "    </tr>\n",
       "    <tr>\n",
       "      <th>3</th>\n",
       "      <td>ART_AND_DESIGN</td>\n",
       "      <td>215644</td>\n",
       "      <td>50000000</td>\n",
       "      <td>0.0</td>\n",
       "      <td>Teen</td>\n",
       "      <td>2018</td>\n",
       "      <td>4.5</td>\n",
       "    </tr>\n",
       "    <tr>\n",
       "      <th>4</th>\n",
       "      <td>ART_AND_DESIGN</td>\n",
       "      <td>967</td>\n",
       "      <td>100000</td>\n",
       "      <td>0.0</td>\n",
       "      <td>Everyone</td>\n",
       "      <td>2018</td>\n",
       "      <td>4.3</td>\n",
       "    </tr>\n",
       "  </tbody>\n",
       "</table>\n",
       "</div>"
      ],
      "text/plain": [
       "         category  reviews  installs  price content_rating  update_year  \\\n",
       "0  ART_AND_DESIGN      159     10000    0.0       Everyone         2018   \n",
       "1  ART_AND_DESIGN      967    500000    0.0       Everyone         2018   \n",
       "2  ART_AND_DESIGN    87510   5000000    0.0       Everyone         2018   \n",
       "3  ART_AND_DESIGN   215644  50000000    0.0           Teen         2018   \n",
       "4  ART_AND_DESIGN      967    100000    0.0       Everyone         2018   \n",
       "\n",
       "   ratingR  \n",
       "0      4.1  \n",
       "1      3.9  \n",
       "2      4.7  \n",
       "3      4.5  \n",
       "4      4.3  "
      ]
     },
     "execution_count": 4,
     "metadata": {},
     "output_type": "execute_result"
    }
   ],
   "source": [
    "GooglePlay.head()"
   ]
  },
  {
   "cell_type": "code",
   "execution_count": 5,
   "id": "658c3de8-3ae2-4dda-8c4b-f411d02a4dde",
   "metadata": {},
   "outputs": [
    {
     "name": "stdout",
     "output_type": "stream",
     "text": [
      "<class 'pandas.core.frame.DataFrame'>\n",
      "RangeIndex: 9658 entries, 0 to 9657\n",
      "Data columns (total 7 columns):\n",
      " #   Column          Non-Null Count  Dtype  \n",
      "---  ------          --------------  -----  \n",
      " 0   category        9658 non-null   object \n",
      " 1   reviews         9658 non-null   int64  \n",
      " 2   installs        9658 non-null   int64  \n",
      " 3   price           9658 non-null   float64\n",
      " 4   content_rating  9658 non-null   object \n",
      " 5   update_year     9658 non-null   int64  \n",
      " 6   ratingR         9658 non-null   float64\n",
      "dtypes: float64(2), int64(3), object(2)\n",
      "memory usage: 528.3+ KB\n"
     ]
    }
   ],
   "source": [
    "GooglePlay.info()    # Used to look at the data type of each column."
   ]
  },
  {
   "cell_type": "markdown",
   "id": "28558c4f-9a01-4039-893f-78eef689d737",
   "metadata": {},
   "source": [
    "It might be necessary to change the data type for some analyses, but I will move forward with my exploratory analysis."
   ]
  },
  {
   "cell_type": "code",
   "execution_count": 6,
   "id": "c2c1a161-9358-4fb6-9b09-7ca8f53eb920",
   "metadata": {},
   "outputs": [
    {
     "name": "stdout",
     "output_type": "stream",
     "text": [
      "Rows: 9658\n",
      "Columns: 7\n"
     ]
    }
   ],
   "source": [
    "print(f'Rows: {GooglePlay.shape[0]}')\n",
    "print(f'Columns: {GooglePlay.shape[1]}')  # Shows how many rows and columns the dataset has."
   ]
  },
  {
   "cell_type": "code",
   "execution_count": 7,
   "id": "0543c7b3-e36f-4a20-90c2-431f154201a9",
   "metadata": {},
   "outputs": [
    {
     "data": {
      "text/plain": [
       "array([2018, 2017, 2014, 2016, 2015, 2013, 2012, 2011, 2010], dtype=int64)"
      ]
     },
     "execution_count": 7,
     "metadata": {},
     "output_type": "execute_result"
    }
   ],
   "source": [
    "GooglePlay.update_year.unique() # Shows the range of years the apps were last updated."
   ]
  },
  {
   "cell_type": "code",
   "execution_count": 8,
   "id": "06f89362-783b-4977-a92d-f6cd46310000",
   "metadata": {},
   "outputs": [
    {
     "data": {
      "text/plain": [
       "2018    6283\n",
       "2017    1794\n",
       "2016     779\n",
       "2015     449\n",
       "2014     203\n",
       "2013     108\n",
       "2012      26\n",
       "2011      15\n",
       "2010       1\n",
       "Name: update_year, dtype: int64"
      ]
     },
     "execution_count": 8,
     "metadata": {},
     "output_type": "execute_result"
    }
   ],
   "source": [
    "GooglePlay.update_year.value_counts()"
   ]
  },
  {
   "cell_type": "markdown",
   "id": "72b7aa3e-7fcf-4933-890b-860dda03a3e2",
   "metadata": {},
   "source": [
    "Using this dataset, most apps were created between 2010 and 2018, with most of them updated later in the decade. "
   ]
  },
  {
   "cell_type": "code",
   "execution_count": 9,
   "id": "39811ecb-5e8e-4ee6-8183-b743a60c585e",
   "metadata": {},
   "outputs": [
    {
     "data": {
      "text/plain": [
       "array(['Everyone', 'Teen', 'Everyone 10+', 'Mature 17+',\n",
       "       'Adults only 18+', 'Unrated'], dtype=object)"
      ]
     },
     "execution_count": 9,
     "metadata": {},
     "output_type": "execute_result"
    }
   ],
   "source": [
    "GooglePlay.content_rating.unique() # Looks at the different content ratings"
   ]
  },
  {
   "cell_type": "code",
   "execution_count": 10,
   "id": "650a27d8-ed09-4642-aeb9-83ee32abe90c",
   "metadata": {},
   "outputs": [
    {
     "data": {
      "text/plain": [
       "Everyone           7903\n",
       "Teen               1036\n",
       "Mature 17+          393\n",
       "Everyone 10+        321\n",
       "Adults only 18+       3\n",
       "Unrated               2\n",
       "Name: content_rating, dtype: int64"
      ]
     },
     "execution_count": 10,
     "metadata": {},
     "output_type": "execute_result"
    }
   ],
   "source": [
    "GooglePlay.content_rating.value_counts() # Each category is shown along with how many values it has."
   ]
  },
  {
   "cell_type": "markdown",
   "id": "63487016-ed3f-47e1-a957-813c1eba4530",
   "metadata": {},
   "source": [
    "In this dataset, most apps are rated 'Everyone' and only one is unrated. If analysis calls for ratings, 'Adults only 18+' and 'Unrated' can be grouped with other ratings."
   ]
  },
  {
   "cell_type": "code",
   "execution_count": 11,
   "id": "ce79caa0-cc39-4515-9d7b-dc1251d52f18",
   "metadata": {},
   "outputs": [
    {
     "data": {
      "text/plain": [
       "FAMILY                 1831\n",
       "GAME                    959\n",
       "TOOLS                   827\n",
       "BUSINESS                420\n",
       "MEDICAL                 395\n",
       "PERSONALIZATION         376\n",
       "PRODUCTIVITY            374\n",
       "LIFESTYLE               369\n",
       "FINANCE                 345\n",
       "SPORTS                  325\n",
       "COMMUNICATION           315\n",
       "HEALTH_AND_FITNESS      288\n",
       "PHOTOGRAPHY             281\n",
       "NEWS_AND_MAGAZINES      254\n",
       "SOCIAL                  239\n",
       "BOOKS_AND_REFERENCE     222\n",
       "TRAVEL_AND_LOCAL        219\n",
       "SHOPPING                202\n",
       "DATING                  171\n",
       "VIDEO_PLAYERS           163\n",
       "MAPS_AND_NAVIGATION     131\n",
       "EDUCATION               119\n",
       "FOOD_AND_DRINK          112\n",
       "ENTERTAINMENT           102\n",
       "AUTO_AND_VEHICLES        85\n",
       "LIBRARIES_AND_DEMO       84\n",
       "WEATHER                  79\n",
       "HOUSE_AND_HOME           74\n",
       "EVENTS                   64\n",
       "ART_AND_DESIGN           64\n",
       "PARENTING                60\n",
       "COMICS                   56\n",
       "BEAUTY                   53\n",
       "Name: category, dtype: int64"
      ]
     },
     "execution_count": 11,
     "metadata": {},
     "output_type": "execute_result"
    }
   ],
   "source": [
    "GooglePlay.category.value_counts() # Each category grouped along with how many values it has."
   ]
  },
  {
   "cell_type": "markdown",
   "id": "606f3676-647a-439a-9c57-e752f0cf700e",
   "metadata": {},
   "source": [
    "'Family','Game', and 'Tools' categories have the most values in this dataset."
   ]
  },
  {
   "cell_type": "code",
   "execution_count": 12,
   "id": "2f9d5c4b-f6f9-4c02-8e35-5462130a0e9c",
   "metadata": {},
   "outputs": [
    {
     "data": {
      "text/plain": [
       "4.300000    907\n",
       "4.400000    895\n",
       "4.500000    848\n",
       "4.200000    810\n",
       "4.600000    683\n",
       "           ... \n",
       "1.400000      3\n",
       "1.500000      3\n",
       "4.181481      2\n",
       "4.364407      1\n",
       "1.200000      1\n",
       "Name: ratingR, Length: 70, dtype: int64"
      ]
     },
     "execution_count": 12,
     "metadata": {},
     "output_type": "execute_result"
    }
   ],
   "source": [
    "GooglePlay.ratingR.value_counts() # Each shows the ratings and how many apps with those ratings. "
   ]
  },
  {
   "cell_type": "code",
   "execution_count": 13,
   "id": "cc73e085-1321-4841-9cb8-a10f258f5b00",
   "metadata": {},
   "outputs": [
    {
     "data": {
      "text/plain": [
       "0.00      8902\n",
       "0.99       145\n",
       "2.99       124\n",
       "1.99        73\n",
       "4.99        70\n",
       "          ... \n",
       "18.99        1\n",
       "389.99       1\n",
       "19.90        1\n",
       "1.75         1\n",
       "1.04         1\n",
       "Name: price, Length: 92, dtype: int64"
      ]
     },
     "execution_count": 13,
     "metadata": {},
     "output_type": "execute_result"
    }
   ],
   "source": [
    "GooglePlay.price.value_counts()"
   ]
  },
  {
   "cell_type": "code",
   "execution_count": 14,
   "id": "5ce11d17-4efb-40e6-b526-9730f980cd95",
   "metadata": {},
   "outputs": [
    {
     "data": {
      "text/html": [
       "<div>\n",
       "<style scoped>\n",
       "    .dataframe tbody tr th:only-of-type {\n",
       "        vertical-align: middle;\n",
       "    }\n",
       "\n",
       "    .dataframe tbody tr th {\n",
       "        vertical-align: top;\n",
       "    }\n",
       "\n",
       "    .dataframe thead th {\n",
       "        text-align: right;\n",
       "    }\n",
       "</style>\n",
       "<table border=\"1\" class=\"dataframe\">\n",
       "  <thead>\n",
       "    <tr style=\"text-align: right;\">\n",
       "      <th></th>\n",
       "      <th>reviews</th>\n",
       "      <th>installs</th>\n",
       "      <th>price</th>\n",
       "      <th>update_year</th>\n",
       "      <th>ratingR</th>\n",
       "    </tr>\n",
       "  </thead>\n",
       "  <tbody>\n",
       "    <tr>\n",
       "      <th>count</th>\n",
       "      <td>9.658000e+03</td>\n",
       "      <td>9.658000e+03</td>\n",
       "      <td>9658.000000</td>\n",
       "      <td>9658.00000</td>\n",
       "      <td>9658.000000</td>\n",
       "    </tr>\n",
       "    <tr>\n",
       "      <th>mean</th>\n",
       "      <td>2.166150e+05</td>\n",
       "      <td>7.778312e+06</td>\n",
       "      <td>1.099413</td>\n",
       "      <td>2017.34562</td>\n",
       "      <td>4.172229</td>\n",
       "    </tr>\n",
       "    <tr>\n",
       "      <th>std</th>\n",
       "      <td>1.831413e+06</td>\n",
       "      <td>5.376100e+07</td>\n",
       "      <td>16.853021</td>\n",
       "      <td>1.13764</td>\n",
       "      <td>0.495618</td>\n",
       "    </tr>\n",
       "    <tr>\n",
       "      <th>min</th>\n",
       "      <td>0.000000e+00</td>\n",
       "      <td>0.000000e+00</td>\n",
       "      <td>0.000000</td>\n",
       "      <td>2010.00000</td>\n",
       "      <td>1.000000</td>\n",
       "    </tr>\n",
       "    <tr>\n",
       "      <th>25%</th>\n",
       "      <td>2.500000e+01</td>\n",
       "      <td>1.000000e+03</td>\n",
       "      <td>0.000000</td>\n",
       "      <td>2017.00000</td>\n",
       "      <td>4.000000</td>\n",
       "    </tr>\n",
       "    <tr>\n",
       "      <th>50%</th>\n",
       "      <td>9.670000e+02</td>\n",
       "      <td>1.000000e+05</td>\n",
       "      <td>0.000000</td>\n",
       "      <td>2018.00000</td>\n",
       "      <td>4.200000</td>\n",
       "    </tr>\n",
       "    <tr>\n",
       "      <th>75%</th>\n",
       "      <td>2.940800e+04</td>\n",
       "      <td>1.000000e+06</td>\n",
       "      <td>0.000000</td>\n",
       "      <td>2018.00000</td>\n",
       "      <td>4.500000</td>\n",
       "    </tr>\n",
       "    <tr>\n",
       "      <th>max</th>\n",
       "      <td>7.815831e+07</td>\n",
       "      <td>1.000000e+09</td>\n",
       "      <td>400.000000</td>\n",
       "      <td>2018.00000</td>\n",
       "      <td>5.000000</td>\n",
       "    </tr>\n",
       "  </tbody>\n",
       "</table>\n",
       "</div>"
      ],
      "text/plain": [
       "            reviews      installs        price  update_year      ratingR\n",
       "count  9.658000e+03  9.658000e+03  9658.000000   9658.00000  9658.000000\n",
       "mean   2.166150e+05  7.778312e+06     1.099413   2017.34562     4.172229\n",
       "std    1.831413e+06  5.376100e+07    16.853021      1.13764     0.495618\n",
       "min    0.000000e+00  0.000000e+00     0.000000   2010.00000     1.000000\n",
       "25%    2.500000e+01  1.000000e+03     0.000000   2017.00000     4.000000\n",
       "50%    9.670000e+02  1.000000e+05     0.000000   2018.00000     4.200000\n",
       "75%    2.940800e+04  1.000000e+06     0.000000   2018.00000     4.500000\n",
       "max    7.815831e+07  1.000000e+09   400.000000   2018.00000     5.000000"
      ]
     },
     "execution_count": 14,
     "metadata": {},
     "output_type": "execute_result"
    }
   ],
   "source": [
    "GooglePlay.describe()          # Used to look at the mean, std, min, max, etc. of continous values"
   ]
  },
  {
   "cell_type": "code",
   "execution_count": 15,
   "id": "ee727e97-f797-4a32-84d7-c4b21b7eef78",
   "metadata": {},
   "outputs": [
    {
     "data": {
      "text/plain": [
       "category\n",
       "EVENTS                 4.435556\n",
       "EDUCATION              4.364407\n",
       "ART_AND_DESIGN         4.357377\n",
       "BOOKS_AND_REFERENCE    4.344970\n",
       "PERSONALIZATION        4.332215\n",
       "PARENTING              4.300000\n",
       "BEAUTY                 4.278571\n",
       "GAME                   4.247368\n",
       "SOCIAL                 4.247291\n",
       "WEATHER                4.243056\n",
       "HEALTH_AND_FITNESS     4.243033\n",
       "SHOPPING               4.230000\n",
       "SPORTS                 4.216154\n",
       "AUTO_AND_VEHICLES      4.190411\n",
       "PRODUCTIVITY           4.183389\n",
       "COMICS                 4.181481\n",
       "FAMILY                 4.179664\n",
       "LIBRARIES_AND_DEMO     4.178125\n",
       "FOOD_AND_DRINK         4.172340\n",
       "MEDICAL                4.166552\n",
       "PHOTOGRAPHY            4.157414\n",
       "HOUSE_AND_HOME         4.150000\n",
       "ENTERTAINMENT          4.135294\n",
       "NEWS_AND_MAGAZINES     4.121569\n",
       "COMMUNICATION          4.121484\n",
       "FINANCE                4.115563\n",
       "BUSINESS               4.098479\n",
       "LIFESTYLE              4.093355\n",
       "TRAVEL_AND_LOCAL       4.069519\n",
       "VIDEO_PLAYERS          4.044595\n",
       "TOOLS                  4.039554\n",
       "MAPS_AND_NAVIGATION    4.036441\n",
       "DATING                 3.970149\n",
       "Name: ratingR, dtype: float64"
      ]
     },
     "execution_count": 15,
     "metadata": {},
     "output_type": "execute_result"
    }
   ],
   "source": [
    "GooglePlay.groupby('category')['ratingR'].mean().sort_values(ascending=False) # Shows each categories with their average ratings."
   ]
  },
  {
   "cell_type": "code",
   "execution_count": null,
   "id": "6548e363-0c1a-46f9-ae8b-ce691de649ca",
   "metadata": {},
   "outputs": [],
   "source": [
    "The categories with the highest ratings are 'Events','Education', and 'Art_and_Design'."
   ]
  }
 ],
 "metadata": {
  "kernelspec": {
   "display_name": "Python 3 (ipykernel)",
   "language": "python",
   "name": "python3"
  },
  "language_info": {
   "codemirror_mode": {
    "name": "ipython",
    "version": 3
   },
   "file_extension": ".py",
   "mimetype": "text/x-python",
   "name": "python",
   "nbconvert_exporter": "python",
   "pygments_lexer": "ipython3",
   "version": "3.10.5"
  }
 },
 "nbformat": 4,
 "nbformat_minor": 5
}
