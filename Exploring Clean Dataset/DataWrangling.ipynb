{
 "cells": [
  {
   "cell_type": "markdown",
   "id": "977f2d97-8e52-4da2-9a8f-d17adf7154c4",
   "metadata": {},
   "source": [
    "# Google Play Dataset"
   ]
  },
  {
   "cell_type": "markdown",
   "id": "4ad7ecf9-5eaa-4e5c-a385-c34a456f2626",
   "metadata": {},
   "source": [
    "As part of this notebook, I will clean data and conduct some exploratory analysis. The first step is to import necessary packages."
   ]
  },
  {
   "cell_type": "code",
   "execution_count": 1,
   "id": "a24a4ceb-eea0-4461-902f-9d1307b5d16f",
   "metadata": {},
   "outputs": [],
   "source": [
    "import numpy as np \n",
    "import pandas as pd \n",
    "import matplotlib.pyplot as plt\n",
    "from matplotlib.pyplot import figure\n",
    "import seaborn as sb\n",
    "from scipy import stats\n",
    "from scipy.stats import ttest_ind"
   ]
  },
  {
   "cell_type": "markdown",
   "id": "0f316084-cec4-4a22-b864-30d3c6626d66",
   "metadata": {},
   "source": [
    "The second step will be to import our data."
   ]
  },
  {
   "cell_type": "code",
   "execution_count": 2,
   "id": "6745da51-41df-4ea5-938c-8ed61092ddb0",
   "metadata": {},
   "outputs": [],
   "source": [
    "GP = pd.read_csv(\"C:/Users/brend/Documents/GitHub/Play-Store-Exploratory-Analysis/Google_data_cleaned.csv\")\n",
    "GP = GP.iloc[:,1:] # Gets rid of \"Unnamed column\"."
   ]
  },
  {
   "cell_type": "code",
   "execution_count": 3,
   "id": "d4df7693-7118-4a29-8dce-2d84cf66fb1e",
   "metadata": {},
   "outputs": [
    {
     "data": {
      "text/html": [
       "<div>\n",
       "<style scoped>\n",
       "    .dataframe tbody tr th:only-of-type {\n",
       "        vertical-align: middle;\n",
       "    }\n",
       "\n",
       "    .dataframe tbody tr th {\n",
       "        vertical-align: top;\n",
       "    }\n",
       "\n",
       "    .dataframe thead th {\n",
       "        text-align: right;\n",
       "    }\n",
       "</style>\n",
       "<table border=\"1\" class=\"dataframe\">\n",
       "  <thead>\n",
       "    <tr style=\"text-align: right;\">\n",
       "      <th></th>\n",
       "      <th>app</th>\n",
       "      <th>category</th>\n",
       "      <th>rating</th>\n",
       "      <th>reviews</th>\n",
       "      <th>installs</th>\n",
       "      <th>type</th>\n",
       "      <th>price</th>\n",
       "      <th>content_rating</th>\n",
       "      <th>genres</th>\n",
       "      <th>current_ver</th>\n",
       "      <th>android_ver</th>\n",
       "      <th>size(kb)</th>\n",
       "      <th>update_month</th>\n",
       "      <th>update_year</th>\n",
       "    </tr>\n",
       "  </thead>\n",
       "  <tbody>\n",
       "    <tr>\n",
       "      <th>0</th>\n",
       "      <td>Photo Editor &amp; Candy Camera &amp; Grid &amp; ScrapBook</td>\n",
       "      <td>ART_AND_DESIGN</td>\n",
       "      <td>4.1</td>\n",
       "      <td>159</td>\n",
       "      <td>10000</td>\n",
       "      <td>0</td>\n",
       "      <td>0.0</td>\n",
       "      <td>Everyone</td>\n",
       "      <td>Art &amp; Design</td>\n",
       "      <td>1.0.0</td>\n",
       "      <td>4.0.3</td>\n",
       "      <td>19000.0</td>\n",
       "      <td>1</td>\n",
       "      <td>2018</td>\n",
       "    </tr>\n",
       "    <tr>\n",
       "      <th>1</th>\n",
       "      <td>Coloring book moana</td>\n",
       "      <td>ART_AND_DESIGN</td>\n",
       "      <td>3.9</td>\n",
       "      <td>967</td>\n",
       "      <td>500000</td>\n",
       "      <td>0</td>\n",
       "      <td>0.0</td>\n",
       "      <td>Everyone</td>\n",
       "      <td>Art &amp; Design;Pretend Play</td>\n",
       "      <td>2.0.0</td>\n",
       "      <td>4.0.3</td>\n",
       "      <td>14000.0</td>\n",
       "      <td>1</td>\n",
       "      <td>2018</td>\n",
       "    </tr>\n",
       "    <tr>\n",
       "      <th>2</th>\n",
       "      <td>U Launcher Lite – FREE Live Cool Themes, Hide ...</td>\n",
       "      <td>ART_AND_DESIGN</td>\n",
       "      <td>4.7</td>\n",
       "      <td>87510</td>\n",
       "      <td>5000000</td>\n",
       "      <td>0</td>\n",
       "      <td>0.0</td>\n",
       "      <td>Everyone</td>\n",
       "      <td>Art &amp; Design</td>\n",
       "      <td>1.2.4</td>\n",
       "      <td>4.0.3</td>\n",
       "      <td>8.7</td>\n",
       "      <td>8</td>\n",
       "      <td>2018</td>\n",
       "    </tr>\n",
       "    <tr>\n",
       "      <th>3</th>\n",
       "      <td>Sketch - Draw &amp; Paint</td>\n",
       "      <td>ART_AND_DESIGN</td>\n",
       "      <td>4.5</td>\n",
       "      <td>215644</td>\n",
       "      <td>50000000</td>\n",
       "      <td>0</td>\n",
       "      <td>0.0</td>\n",
       "      <td>Teen</td>\n",
       "      <td>Art &amp; Design</td>\n",
       "      <td>NaN</td>\n",
       "      <td>4.2</td>\n",
       "      <td>25000.0</td>\n",
       "      <td>6</td>\n",
       "      <td>2018</td>\n",
       "    </tr>\n",
       "    <tr>\n",
       "      <th>4</th>\n",
       "      <td>Pixel Draw - Number Art Coloring Book</td>\n",
       "      <td>ART_AND_DESIGN</td>\n",
       "      <td>4.3</td>\n",
       "      <td>967</td>\n",
       "      <td>100000</td>\n",
       "      <td>0</td>\n",
       "      <td>0.0</td>\n",
       "      <td>Everyone</td>\n",
       "      <td>Art &amp; Design;Creativity</td>\n",
       "      <td>1.1</td>\n",
       "      <td>4.4</td>\n",
       "      <td>2.8</td>\n",
       "      <td>6</td>\n",
       "      <td>2018</td>\n",
       "    </tr>\n",
       "  </tbody>\n",
       "</table>\n",
       "</div>"
      ],
      "text/plain": [
       "                                                 app        category  rating  \\\n",
       "0     Photo Editor & Candy Camera & Grid & ScrapBook  ART_AND_DESIGN     4.1   \n",
       "1                                Coloring book moana  ART_AND_DESIGN     3.9   \n",
       "2  U Launcher Lite – FREE Live Cool Themes, Hide ...  ART_AND_DESIGN     4.7   \n",
       "3                              Sketch - Draw & Paint  ART_AND_DESIGN     4.5   \n",
       "4              Pixel Draw - Number Art Coloring Book  ART_AND_DESIGN     4.3   \n",
       "\n",
       "   reviews  installs  type  price content_rating                     genres  \\\n",
       "0      159     10000     0    0.0       Everyone               Art & Design   \n",
       "1      967    500000     0    0.0       Everyone  Art & Design;Pretend Play   \n",
       "2    87510   5000000     0    0.0       Everyone               Art & Design   \n",
       "3   215644  50000000     0    0.0           Teen               Art & Design   \n",
       "4      967    100000     0    0.0       Everyone    Art & Design;Creativity   \n",
       "\n",
       "  current_ver android_ver  size(kb)  update_month  update_year  \n",
       "0       1.0.0       4.0.3   19000.0             1         2018  \n",
       "1       2.0.0       4.0.3   14000.0             1         2018  \n",
       "2       1.2.4       4.0.3       8.7             8         2018  \n",
       "3         NaN         4.2   25000.0             6         2018  \n",
       "4         1.1         4.4       2.8             6         2018  "
      ]
     },
     "execution_count": 3,
     "metadata": {},
     "output_type": "execute_result"
    }
   ],
   "source": [
    "GP.head() # Takes a look at the first 5 rows of data."
   ]
  },
  {
   "cell_type": "markdown",
   "id": "47662873-4ba4-4610-bcf8-bfaf26d9169f",
   "metadata": {},
   "source": [
    "# Data Wrangling"
   ]
  },
  {
   "cell_type": "markdown",
   "id": "af30a35c-8437-49cc-8e70-1ff77eefe1c4",
   "metadata": {},
   "source": [
    "In order to conduct exploratory analysis, I will conduct some data cleaning. "
   ]
  },
  {
   "cell_type": "code",
   "execution_count": 5,
   "id": "502ff115-75d2-4057-a2fb-808e6dda4d21",
   "metadata": {},
   "outputs": [
    {
     "data": {
      "text/plain": [
       "Index(['app', 'category', 'rating', 'reviews', 'installs', 'type', 'price',\n",
       "       'content_rating', 'genres', 'current_ver', 'android_ver', 'size(kb)',\n",
       "       'update_month', 'update_year'],\n",
       "      dtype='object')"
      ]
     },
     "execution_count": 5,
     "metadata": {},
     "output_type": "execute_result"
    }
   ],
   "source": [
    "GP.columns # Takes a look at all the columns in our dataset."
   ]
  },
  {
   "cell_type": "code",
   "execution_count": 6,
   "id": "3597e01e-bc02-48fc-98dc-0a09e60473b7",
   "metadata": {},
   "outputs": [],
   "source": [
    "GP1 = GP.drop(['current_ver', 'genres','app','type','android_ver','size(kb)','update_month'], axis=1) # 'genre column is repetitive from 'category' column, and 'current_ver','app','type' seem irrelevant to our analysis. Will remove both columns"
   ]
  },
  {
   "cell_type": "code",
   "execution_count": 7,
   "id": "5a31caa9-610a-46a5-b369-38103edc0d4c",
   "metadata": {},
   "outputs": [
    {
     "data": {
      "text/html": [
       "<div>\n",
       "<style scoped>\n",
       "    .dataframe tbody tr th:only-of-type {\n",
       "        vertical-align: middle;\n",
       "    }\n",
       "\n",
       "    .dataframe tbody tr th {\n",
       "        vertical-align: top;\n",
       "    }\n",
       "\n",
       "    .dataframe thead th {\n",
       "        text-align: right;\n",
       "    }\n",
       "</style>\n",
       "<table border=\"1\" class=\"dataframe\">\n",
       "  <thead>\n",
       "    <tr style=\"text-align: right;\">\n",
       "      <th></th>\n",
       "      <th>category</th>\n",
       "      <th>rating</th>\n",
       "      <th>reviews</th>\n",
       "      <th>installs</th>\n",
       "      <th>price</th>\n",
       "      <th>content_rating</th>\n",
       "      <th>update_year</th>\n",
       "    </tr>\n",
       "  </thead>\n",
       "  <tbody>\n",
       "    <tr>\n",
       "      <th>0</th>\n",
       "      <td>ART_AND_DESIGN</td>\n",
       "      <td>4.1</td>\n",
       "      <td>159</td>\n",
       "      <td>10000</td>\n",
       "      <td>0.0</td>\n",
       "      <td>Everyone</td>\n",
       "      <td>2018</td>\n",
       "    </tr>\n",
       "    <tr>\n",
       "      <th>1</th>\n",
       "      <td>ART_AND_DESIGN</td>\n",
       "      <td>3.9</td>\n",
       "      <td>967</td>\n",
       "      <td>500000</td>\n",
       "      <td>0.0</td>\n",
       "      <td>Everyone</td>\n",
       "      <td>2018</td>\n",
       "    </tr>\n",
       "    <tr>\n",
       "      <th>2</th>\n",
       "      <td>ART_AND_DESIGN</td>\n",
       "      <td>4.7</td>\n",
       "      <td>87510</td>\n",
       "      <td>5000000</td>\n",
       "      <td>0.0</td>\n",
       "      <td>Everyone</td>\n",
       "      <td>2018</td>\n",
       "    </tr>\n",
       "    <tr>\n",
       "      <th>3</th>\n",
       "      <td>ART_AND_DESIGN</td>\n",
       "      <td>4.5</td>\n",
       "      <td>215644</td>\n",
       "      <td>50000000</td>\n",
       "      <td>0.0</td>\n",
       "      <td>Teen</td>\n",
       "      <td>2018</td>\n",
       "    </tr>\n",
       "    <tr>\n",
       "      <th>4</th>\n",
       "      <td>ART_AND_DESIGN</td>\n",
       "      <td>4.3</td>\n",
       "      <td>967</td>\n",
       "      <td>100000</td>\n",
       "      <td>0.0</td>\n",
       "      <td>Everyone</td>\n",
       "      <td>2018</td>\n",
       "    </tr>\n",
       "  </tbody>\n",
       "</table>\n",
       "</div>"
      ],
      "text/plain": [
       "         category  rating  reviews  installs  price content_rating  \\\n",
       "0  ART_AND_DESIGN     4.1      159     10000    0.0       Everyone   \n",
       "1  ART_AND_DESIGN     3.9      967    500000    0.0       Everyone   \n",
       "2  ART_AND_DESIGN     4.7    87510   5000000    0.0       Everyone   \n",
       "3  ART_AND_DESIGN     4.5   215644  50000000    0.0           Teen   \n",
       "4  ART_AND_DESIGN     4.3      967    100000    0.0       Everyone   \n",
       "\n",
       "   update_year  \n",
       "0         2018  \n",
       "1         2018  \n",
       "2         2018  \n",
       "3         2018  \n",
       "4         2018  "
      ]
     },
     "execution_count": 7,
     "metadata": {},
     "output_type": "execute_result"
    }
   ],
   "source": [
    "GP1.head()"
   ]
  },
  {
   "cell_type": "code",
   "execution_count": 8,
   "id": "47becdbb-c5a4-4221-9cb9-35e9198aff88",
   "metadata": {},
   "outputs": [
    {
     "data": {
      "text/plain": [
       "rating            1462\n",
       "category             0\n",
       "reviews              0\n",
       "installs             0\n",
       "price                0\n",
       "content_rating       0\n",
       "update_year          0\n",
       "dtype: int64"
      ]
     },
     "execution_count": 8,
     "metadata": {},
     "output_type": "execute_result"
    }
   ],
   "source": [
    "null_values = GP1.isna().sum().sort_values(ascending=False) # Takes a look at null values\n",
    "null_values.head(10)"
   ]
  },
  {
   "cell_type": "code",
   "execution_count": 9,
   "id": "985f237e-8f63-45d4-bc38-344ad1391b09",
   "metadata": {},
   "outputs": [
    {
     "name": "stdout",
     "output_type": "stream",
     "text": [
      "Rows: 9658\n",
      "Columns: 7\n"
     ]
    }
   ],
   "source": [
    "print(f'Rows: {GP1.shape[0]}') # Takes a look at how many rows and column my data has.\n",
    "print(f'Columns: {GP1.shape[1]}')"
   ]
  },
  {
   "cell_type": "code",
   "execution_count": 10,
   "id": "a429eecb-18b0-411f-b120-41970b487394",
   "metadata": {},
   "outputs": [],
   "source": [
    "# replace null values with mean of each category. "
   ]
  },
  {
   "cell_type": "code",
   "execution_count": 11,
   "id": "5700f420-3077-469d-83c0-596777329564",
   "metadata": {},
   "outputs": [],
   "source": [
    "GP1['ratingR'] = GP1.groupby('category')['rating'].apply(lambda x: x.fillna(x.mean()))"
   ]
  },
  {
   "cell_type": "code",
   "execution_count": 12,
   "id": "ecd629ee-6d15-4d48-92fa-03cc3b84a476",
   "metadata": {},
   "outputs": [],
   "source": [
    "# dropping rating column"
   ]
  },
  {
   "cell_type": "code",
   "execution_count": 13,
   "id": "0e71d55c-794d-4243-bd31-a0124c781b76",
   "metadata": {},
   "outputs": [],
   "source": [
    "GP2 = GP1.drop(['rating'], axis=1)"
   ]
  },
  {
   "cell_type": "code",
   "execution_count": 15,
   "id": "4d8ab091-2556-427c-86f5-2927d488281d",
   "metadata": {},
   "outputs": [],
   "source": [
    "# check null values and new column"
   ]
  },
  {
   "cell_type": "code",
   "execution_count": 16,
   "id": "de4b4562-2dbe-4c90-9748-a5c37a126aa1",
   "metadata": {},
   "outputs": [
    {
     "data": {
      "text/plain": [
       "category          0\n",
       "reviews           0\n",
       "installs          0\n",
       "price             0\n",
       "content_rating    0\n",
       "update_year       0\n",
       "ratingR           0\n",
       "dtype: int64"
      ]
     },
     "execution_count": 16,
     "metadata": {},
     "output_type": "execute_result"
    }
   ],
   "source": [
    "GP2.isna().sum()"
   ]
  },
  {
   "cell_type": "code",
   "execution_count": 17,
   "id": "2448ec5e-04cd-4f2f-9ea8-da993a69941e",
   "metadata": {},
   "outputs": [
    {
     "name": "stdout",
     "output_type": "stream",
     "text": [
      "<class 'pandas.core.frame.DataFrame'>\n",
      "RangeIndex: 9658 entries, 0 to 9657\n",
      "Data columns (total 7 columns):\n",
      " #   Column          Non-Null Count  Dtype  \n",
      "---  ------          --------------  -----  \n",
      " 0   category        9658 non-null   object \n",
      " 1   reviews         9658 non-null   int64  \n",
      " 2   installs        9658 non-null   int64  \n",
      " 3   price           9658 non-null   float64\n",
      " 4   content_rating  9658 non-null   object \n",
      " 5   update_year     9658 non-null   int64  \n",
      " 6   ratingR         9658 non-null   float64\n",
      "dtypes: float64(2), int64(3), object(2)\n",
      "memory usage: 528.3+ KB\n"
     ]
    }
   ],
   "source": [
    "GP2.info()"
   ]
  },
  {
   "cell_type": "code",
   "execution_count": 18,
   "id": "4e9f3b6b-dfda-4649-b899-0a70be5bd3d2",
   "metadata": {},
   "outputs": [],
   "source": [
    "# Export clean dataset."
   ]
  },
  {
   "cell_type": "code",
   "execution_count": 19,
   "id": "c4a8a935-d419-4b7d-a63f-72e19807018d",
   "metadata": {},
   "outputs": [],
   "source": [
    "GP2.to_csv(\"C:/Users/brend/OneDrive/Desktop/Data Sciences SCI/Google Play/CleanData.csv\")"
   ]
  },
  {
   "cell_type": "code",
   "execution_count": null,
   "id": "0474f311-b719-4fce-b783-4dadfed95fc7",
   "metadata": {},
   "outputs": [],
   "source": []
  }
 ],
 "metadata": {
  "kernelspec": {
   "display_name": "Python 3 (ipykernel)",
   "language": "python",
   "name": "python3"
  },
  "language_info": {
   "codemirror_mode": {
    "name": "ipython",
    "version": 3
   },
   "file_extension": ".py",
   "mimetype": "text/x-python",
   "name": "python",
   "nbconvert_exporter": "python",
   "pygments_lexer": "ipython3",
   "version": "3.10.5"
  }
 },
 "nbformat": 4,
 "nbformat_minor": 5
}
