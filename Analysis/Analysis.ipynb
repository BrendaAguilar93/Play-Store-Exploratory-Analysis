{
 "cells": [
  {
   "cell_type": "code",
   "execution_count": 21,
   "id": "c5be5889-9385-45cb-8e03-b1f46cc0a704",
   "metadata": {},
   "outputs": [],
   "source": [
    "import numpy as np \n",
    "import pandas as pd \n",
    "import matplotlib.pyplot as plt\n",
    "from matplotlib.pyplot import figure\n",
    "import seaborn as sb\n",
    "from scipy import stats\n",
    "from scipy.stats import ttest_ind"
   ]
  },
  {
   "cell_type": "markdown",
   "id": "8f8ebf7d-b986-4107-9f1c-2cf707fda5dd",
   "metadata": {},
   "source": [
    "# Analyze Data"
   ]
  },
  {
   "cell_type": "markdown",
   "id": "c80558ce-9d9f-44aa-ab51-1807ee1172d2",
   "metadata": {},
   "source": [
    "My next step will be to analyze the data in order to answer evaluation questions. "
   ]
  },
  {
   "cell_type": "code",
   "execution_count": 22,
   "id": "8229c76e-3907-4612-9941-6b518fb16db2",
   "metadata": {},
   "outputs": [],
   "source": [
    "GooglePlay = pd.read_csv(\"C:/Users/brend/Documents/GitHub/Play-Store-Exploratory-Analysis/Datasets/CleanData.csv\")\n",
    "GooglePlay = GooglePlay.iloc[:,1:]"
   ]
  },
  {
   "cell_type": "code",
   "execution_count": 23,
   "id": "b9b193dc-3ce7-4a9c-9868-ba0eaae963fb",
   "metadata": {},
   "outputs": [
    {
     "data": {
      "text/html": [
       "<div>\n",
       "<style scoped>\n",
       "    .dataframe tbody tr th:only-of-type {\n",
       "        vertical-align: middle;\n",
       "    }\n",
       "\n",
       "    .dataframe tbody tr th {\n",
       "        vertical-align: top;\n",
       "    }\n",
       "\n",
       "    .dataframe thead th {\n",
       "        text-align: right;\n",
       "    }\n",
       "</style>\n",
       "<table border=\"1\" class=\"dataframe\">\n",
       "  <thead>\n",
       "    <tr style=\"text-align: right;\">\n",
       "      <th></th>\n",
       "      <th>category</th>\n",
       "      <th>reviews</th>\n",
       "      <th>installs</th>\n",
       "      <th>price</th>\n",
       "      <th>content_rating</th>\n",
       "      <th>update_year</th>\n",
       "      <th>ratingR</th>\n",
       "    </tr>\n",
       "  </thead>\n",
       "  <tbody>\n",
       "    <tr>\n",
       "      <th>0</th>\n",
       "      <td>ART_AND_DESIGN</td>\n",
       "      <td>159</td>\n",
       "      <td>10000</td>\n",
       "      <td>0.0</td>\n",
       "      <td>Everyone</td>\n",
       "      <td>2018</td>\n",
       "      <td>4.1</td>\n",
       "    </tr>\n",
       "    <tr>\n",
       "      <th>1</th>\n",
       "      <td>ART_AND_DESIGN</td>\n",
       "      <td>967</td>\n",
       "      <td>500000</td>\n",
       "      <td>0.0</td>\n",
       "      <td>Everyone</td>\n",
       "      <td>2018</td>\n",
       "      <td>3.9</td>\n",
       "    </tr>\n",
       "    <tr>\n",
       "      <th>2</th>\n",
       "      <td>ART_AND_DESIGN</td>\n",
       "      <td>87510</td>\n",
       "      <td>5000000</td>\n",
       "      <td>0.0</td>\n",
       "      <td>Everyone</td>\n",
       "      <td>2018</td>\n",
       "      <td>4.7</td>\n",
       "    </tr>\n",
       "    <tr>\n",
       "      <th>3</th>\n",
       "      <td>ART_AND_DESIGN</td>\n",
       "      <td>215644</td>\n",
       "      <td>50000000</td>\n",
       "      <td>0.0</td>\n",
       "      <td>Teen</td>\n",
       "      <td>2018</td>\n",
       "      <td>4.5</td>\n",
       "    </tr>\n",
       "    <tr>\n",
       "      <th>4</th>\n",
       "      <td>ART_AND_DESIGN</td>\n",
       "      <td>967</td>\n",
       "      <td>100000</td>\n",
       "      <td>0.0</td>\n",
       "      <td>Everyone</td>\n",
       "      <td>2018</td>\n",
       "      <td>4.3</td>\n",
       "    </tr>\n",
       "  </tbody>\n",
       "</table>\n",
       "</div>"
      ],
      "text/plain": [
       "         category  reviews  installs  price content_rating  update_year  \\\n",
       "0  ART_AND_DESIGN      159     10000    0.0       Everyone         2018   \n",
       "1  ART_AND_DESIGN      967    500000    0.0       Everyone         2018   \n",
       "2  ART_AND_DESIGN    87510   5000000    0.0       Everyone         2018   \n",
       "3  ART_AND_DESIGN   215644  50000000    0.0           Teen         2018   \n",
       "4  ART_AND_DESIGN      967    100000    0.0       Everyone         2018   \n",
       "\n",
       "   ratingR  \n",
       "0      4.1  \n",
       "1      3.9  \n",
       "2      4.7  \n",
       "3      4.5  \n",
       "4      4.3  "
      ]
     },
     "execution_count": 23,
     "metadata": {},
     "output_type": "execute_result"
    }
   ],
   "source": [
    "GooglePlay.head()"
   ]
  },
  {
   "cell_type": "markdown",
   "id": "a6f486e1-e763-4f63-acd9-91dff61ac0cf",
   "metadata": {},
   "source": [
    "1. Does the rating of an app correlate with any other variables? (e.g., reviews, installs, price)"
   ]
  },
  {
   "cell_type": "markdown",
   "id": "50199cf6-36f7-44b3-824b-7fa9e008f51b",
   "metadata": {},
   "source": [
    "I began to wonder, does an app's rating correlate with other variables? I wanted to create a correlation matrix that helped me see if any variables are correlated with each other."
   ]
  },
  {
   "cell_type": "code",
   "execution_count": 51,
   "id": "614624e3-da7f-4187-9043-f831e416f1d0",
   "metadata": {},
   "outputs": [],
   "source": [
    "#Creates a correlation matrix to determine if any relationship exists between columns."
   ]
  },
  {
   "cell_type": "code",
   "execution_count": 24,
   "id": "af7f82de-c7f9-4982-ada4-473379bc98a3",
   "metadata": {},
   "outputs": [
    {
     "data": {
      "image/png": "[encoded data removed]",
      "text/plain": [
       "<Figure size 432x288 with 2 Axes>"
      ]
     },
     "metadata": {
      "needs_background": "light"
     },
     "output_type": "display_data"
    }
   ],
   "source": [
    "corr_matrix = sb.heatmap(GooglePlay.corr(), annot=True) "
   ]
  },
  {
   "cell_type": "code",
   "execution_count": 25,
   "id": "5a6f3243-457f-4290-b65f-d1e34bdd2ca5",
   "metadata": {},
   "outputs": [],
   "source": [
    "# Change the colors of the matrix!"
   ]
  },
  {
   "cell_type": "code",
   "execution_count": 26,
   "id": "26e0a0cc-4e57-48f9-af25-11baf8443bde",
   "metadata": {},
   "outputs": [
    {
     "data": {
      "text/html": [
       "<style type=\"text/css\">\n",
       "#T_7a6f5_row0_col0, #T_7a6f5_row1_col1, #T_7a6f5_row2_col2, #T_7a6f5_row3_col3, #T_7a6f5_row4_col4 {\n",
       "  background-color: #08306b;\n",
       "  color: #f1f1f1;\n",
       "}\n",
       "#T_7a6f5_row0_col1, #T_7a6f5_row1_col0 {\n",
       "  background-color: #4191c6;\n",
       "  color: #f1f1f1;\n",
       "}\n",
       "#T_7a6f5_row0_col2, #T_7a6f5_row1_col2, #T_7a6f5_row2_col4, #T_7a6f5_row3_col2, #T_7a6f5_row4_col2 {\n",
       "  background-color: #f7fbff;\n",
       "  color: #000000;\n",
       "}\n",
       "#T_7a6f5_row0_col3 {\n",
       "  background-color: #eaf3fb;\n",
       "  color: #000000;\n",
       "}\n",
       "#T_7a6f5_row0_col4, #T_7a6f5_row3_col0, #T_7a6f5_row4_col1 {\n",
       "  background-color: #ebf3fb;\n",
       "  color: #000000;\n",
       "}\n",
       "#T_7a6f5_row1_col3 {\n",
       "  background-color: #e8f1fa;\n",
       "  color: #000000;\n",
       "}\n",
       "#T_7a6f5_row1_col4 {\n",
       "  background-color: #eef5fc;\n",
       "  color: #000000;\n",
       "}\n",
       "#T_7a6f5_row2_col0 {\n",
       "  background-color: #f5f9fe;\n",
       "  color: #000000;\n",
       "}\n",
       "#T_7a6f5_row2_col1 {\n",
       "  background-color: #f5fafe;\n",
       "  color: #000000;\n",
       "}\n",
       "#T_7a6f5_row2_col3 {\n",
       "  background-color: #f4f9fe;\n",
       "  color: #000000;\n",
       "}\n",
       "#T_7a6f5_row3_col1, #T_7a6f5_row4_col0 {\n",
       "  background-color: #e9f2fa;\n",
       "  color: #000000;\n",
       "}\n",
       "#T_7a6f5_row3_col4 {\n",
       "  background-color: #dfecf7;\n",
       "  color: #000000;\n",
       "}\n",
       "#T_7a6f5_row4_col3 {\n",
       "  background-color: #ddeaf7;\n",
       "  color: #000000;\n",
       "}\n",
       "</style>\n",
       "<table id=\"T_7a6f5\">\n",
       "  <thead>\n",
       "    <tr>\n",
       "      <th class=\"blank level0\" >&nbsp;</th>\n",
       "      <th id=\"T_7a6f5_level0_col0\" class=\"col_heading level0 col0\" >reviews</th>\n",
       "      <th id=\"T_7a6f5_level0_col1\" class=\"col_heading level0 col1\" >installs</th>\n",
       "      <th id=\"T_7a6f5_level0_col2\" class=\"col_heading level0 col2\" >price</th>\n",
       "      <th id=\"T_7a6f5_level0_col3\" class=\"col_heading level0 col3\" >update_year</th>\n",
       "      <th id=\"T_7a6f5_level0_col4\" class=\"col_heading level0 col4\" >ratingR</th>\n",
       "    </tr>\n",
       "  </thead>\n",
       "  <tbody>\n",
       "    <tr>\n",
       "      <th id=\"T_7a6f5_level0_row0\" class=\"row_heading level0 row0\" >reviews</th>\n",
       "      <td id=\"T_7a6f5_row0_col0\" class=\"data row0 col0\" >1.0</td>\n",
       "      <td id=\"T_7a6f5_row0_col1\" class=\"data row0 col1\" >0.63</td>\n",
       "      <td id=\"T_7a6f5_row0_col2\" class=\"data row0 col2\" >-0.0076</td>\n",
       "      <td id=\"T_7a6f5_row0_col3\" class=\"data row0 col3\" >0.058</td>\n",
       "      <td id=\"T_7a6f5_row0_col4\" class=\"data row0 col4\" >0.055</td>\n",
       "    </tr>\n",
       "    <tr>\n",
       "      <th id=\"T_7a6f5_level0_row1\" class=\"row_heading level0 row1\" >installs</th>\n",
       "      <td id=\"T_7a6f5_row1_col0\" class=\"data row1 col0\" >0.63</td>\n",
       "      <td id=\"T_7a6f5_row1_col1\" class=\"data row1 col1\" >1.0</td>\n",
       "      <td id=\"T_7a6f5_row1_col2\" class=\"data row1 col2\" >-0.0094</td>\n",
       "      <td id=\"T_7a6f5_row1_col3\" class=\"data row1 col3\" >0.069</td>\n",
       "      <td id=\"T_7a6f5_row1_col4\" class=\"data row1 col4\" >0.04</td>\n",
       "    </tr>\n",
       "    <tr>\n",
       "      <th id=\"T_7a6f5_level0_row2\" class=\"row_heading level0 row2\" >price</th>\n",
       "      <td id=\"T_7a6f5_row2_col0\" class=\"data row2 col0\" >-0.0076</td>\n",
       "      <td id=\"T_7a6f5_row2_col1\" class=\"data row2 col1\" >-0.0094</td>\n",
       "      <td id=\"T_7a6f5_row2_col2\" class=\"data row2 col2\" >1.0</td>\n",
       "      <td id=\"T_7a6f5_row2_col3\" class=\"data row2 col3\" >-0.0036</td>\n",
       "      <td id=\"T_7a6f5_row2_col4\" class=\"data row2 col4\" >-0.02</td>\n",
       "    </tr>\n",
       "    <tr>\n",
       "      <th id=\"T_7a6f5_level0_row3\" class=\"row_heading level0 row3\" >update_year</th>\n",
       "      <td id=\"T_7a6f5_row3_col0\" class=\"data row3 col0\" >0.058</td>\n",
       "      <td id=\"T_7a6f5_row3_col1\" class=\"data row3 col1\" >0.069</td>\n",
       "      <td id=\"T_7a6f5_row3_col2\" class=\"data row3 col2\" >-0.0036</td>\n",
       "      <td id=\"T_7a6f5_row3_col3\" class=\"data row3 col3\" >1.0</td>\n",
       "      <td id=\"T_7a6f5_row3_col4\" class=\"data row3 col4\" >0.11</td>\n",
       "    </tr>\n",
       "    <tr>\n",
       "      <th id=\"T_7a6f5_level0_row4\" class=\"row_heading level0 row4\" >ratingR</th>\n",
       "      <td id=\"T_7a6f5_row4_col0\" class=\"data row4 col0\" >0.055</td>\n",
       "      <td id=\"T_7a6f5_row4_col1\" class=\"data row4 col1\" >0.04</td>\n",
       "      <td id=\"T_7a6f5_row4_col2\" class=\"data row4 col2\" >-0.02</td>\n",
       "      <td id=\"T_7a6f5_row4_col3\" class=\"data row4 col3\" >0.11</td>\n",
       "      <td id=\"T_7a6f5_row4_col4\" class=\"data row4 col4\" >1.0</td>\n",
       "    </tr>\n",
       "  </tbody>\n",
       "</table>\n"
      ],
      "text/plain": [
       "<pandas.io.formats.style.Styler at 0x11059d20a60>"
      ]
     },
     "execution_count": 26,
     "metadata": {},
     "output_type": "execute_result"
    }
   ],
   "source": [
    "GooglePlay.corr(method='pearson').style.format(\"{:.2}\").background_gradient(cmap=plt.get_cmap('Blues'), axis=1)"
   ]
  },
  {
   "cell_type": "markdown",
   "id": "1aaa369a-ccef-4f66-8aec-7b8f7125025d",
   "metadata": {},
   "source": [
    "This matrix shows a slight correlation between reviews and installs."
   ]
  },
  {
   "cell_type": "code",
   "execution_count": 27,
   "id": "4ecdfbe7-c36d-4eaf-a5fb-da33a6cb8cdd",
   "metadata": {},
   "outputs": [
    {
     "data": {
      "text/plain": [
       "0.6251638834019958"
      ]
     },
     "execution_count": 27,
     "metadata": {},
     "output_type": "execute_result"
    }
   ],
   "source": [
    "GooglePlay['reviews'].corr(GooglePlay['installs']) # Calculates correlation % between installs and reviews."
   ]
  },
  {
   "cell_type": "markdown",
   "id": "244b6b87-78ba-46cc-ac77-b1350e199717",
   "metadata": {},
   "source": [
    "This matrix shows about 63% correlation between installs and reviews. Because people tend to review only apps they have installed, this makes sense. No other correlation seems significant to explore."
   ]
  },
  {
   "cell_type": "markdown",
   "id": "333a4c7a-007d-4ab0-8ca6-6615928a370b",
   "metadata": {},
   "source": [
    "2. Is there a difference in rating between free and paid apps?"
   ]
  },
  {
   "cell_type": "markdown",
   "id": "1df24591-7912-43a3-bb65-bf3e3c62eed1",
   "metadata": {},
   "source": [
    "In my dive into the dataset, I wanted to see if the difference in rating between free and paid applications was significant. To answer this question, I needed to run an independent t-test. First, I recoded the price column into two groups, Free apps and those with a price tag. "
   ]
  },
  {
   "cell_type": "code",
   "execution_count": 52,
   "id": "4dc7ff51-70db-4c2a-8ccb-963b1ac6fb04",
   "metadata": {},
   "outputs": [],
   "source": [
    "# Recode free and paid apps."
   ]
  },
  {
   "cell_type": "code",
   "execution_count": 28,
   "id": "0afbd54b-2e03-473a-8506-e58374b8479e",
   "metadata": {},
   "outputs": [],
   "source": [
    "def recode_prices(series):\n",
    "    if series <= 0.00 :\n",
    "        return 'Free'\n",
    "    else:\n",
    "        return 'Paid' "
   ]
  },
  {
   "cell_type": "code",
   "execution_count": 53,
   "id": "a9ed0e78-ecff-4c2a-8326-b177c9d12bfd",
   "metadata": {},
   "outputs": [],
   "source": [
    "# adds new column with recoded data."
   ]
  },
  {
   "cell_type": "code",
   "execution_count": 29,
   "id": "0d54919b-8be3-4772-a450-076d23748a63",
   "metadata": {},
   "outputs": [
    {
     "data": {
      "text/html": [
       "<div>\n",
       "<style scoped>\n",
       "    .dataframe tbody tr th:only-of-type {\n",
       "        vertical-align: middle;\n",
       "    }\n",
       "\n",
       "    .dataframe tbody tr th {\n",
       "        vertical-align: top;\n",
       "    }\n",
       "\n",
       "    .dataframe thead th {\n",
       "        text-align: right;\n",
       "    }\n",
       "</style>\n",
       "<table border=\"1\" class=\"dataframe\">\n",
       "  <thead>\n",
       "    <tr style=\"text-align: right;\">\n",
       "      <th></th>\n",
       "      <th>category</th>\n",
       "      <th>reviews</th>\n",
       "      <th>installs</th>\n",
       "      <th>price</th>\n",
       "      <th>content_rating</th>\n",
       "      <th>update_year</th>\n",
       "      <th>ratingR</th>\n",
       "      <th>priceR</th>\n",
       "    </tr>\n",
       "  </thead>\n",
       "  <tbody>\n",
       "    <tr>\n",
       "      <th>0</th>\n",
       "      <td>ART_AND_DESIGN</td>\n",
       "      <td>159</td>\n",
       "      <td>10000</td>\n",
       "      <td>0.0</td>\n",
       "      <td>Everyone</td>\n",
       "      <td>2018</td>\n",
       "      <td>4.1</td>\n",
       "      <td>Free</td>\n",
       "    </tr>\n",
       "    <tr>\n",
       "      <th>1</th>\n",
       "      <td>ART_AND_DESIGN</td>\n",
       "      <td>967</td>\n",
       "      <td>500000</td>\n",
       "      <td>0.0</td>\n",
       "      <td>Everyone</td>\n",
       "      <td>2018</td>\n",
       "      <td>3.9</td>\n",
       "      <td>Free</td>\n",
       "    </tr>\n",
       "    <tr>\n",
       "      <th>2</th>\n",
       "      <td>ART_AND_DESIGN</td>\n",
       "      <td>87510</td>\n",
       "      <td>5000000</td>\n",
       "      <td>0.0</td>\n",
       "      <td>Everyone</td>\n",
       "      <td>2018</td>\n",
       "      <td>4.7</td>\n",
       "      <td>Free</td>\n",
       "    </tr>\n",
       "    <tr>\n",
       "      <th>3</th>\n",
       "      <td>ART_AND_DESIGN</td>\n",
       "      <td>215644</td>\n",
       "      <td>50000000</td>\n",
       "      <td>0.0</td>\n",
       "      <td>Teen</td>\n",
       "      <td>2018</td>\n",
       "      <td>4.5</td>\n",
       "      <td>Free</td>\n",
       "    </tr>\n",
       "    <tr>\n",
       "      <th>4</th>\n",
       "      <td>ART_AND_DESIGN</td>\n",
       "      <td>967</td>\n",
       "      <td>100000</td>\n",
       "      <td>0.0</td>\n",
       "      <td>Everyone</td>\n",
       "      <td>2018</td>\n",
       "      <td>4.3</td>\n",
       "      <td>Free</td>\n",
       "    </tr>\n",
       "  </tbody>\n",
       "</table>\n",
       "</div>"
      ],
      "text/plain": [
       "         category  reviews  installs  price content_rating  update_year  \\\n",
       "0  ART_AND_DESIGN      159     10000    0.0       Everyone         2018   \n",
       "1  ART_AND_DESIGN      967    500000    0.0       Everyone         2018   \n",
       "2  ART_AND_DESIGN    87510   5000000    0.0       Everyone         2018   \n",
       "3  ART_AND_DESIGN   215644  50000000    0.0           Teen         2018   \n",
       "4  ART_AND_DESIGN      967    100000    0.0       Everyone         2018   \n",
       "\n",
       "   ratingR priceR  \n",
       "0      4.1   Free  \n",
       "1      3.9   Free  \n",
       "2      4.7   Free  \n",
       "3      4.5   Free  \n",
       "4      4.3   Free  "
      ]
     },
     "execution_count": 29,
     "metadata": {},
     "output_type": "execute_result"
    }
   ],
   "source": [
    "GooglePlay['priceR'] = GooglePlay['price'].apply(recode_prices) \n",
    "GooglePlay.head()"
   ]
  },
  {
   "cell_type": "code",
   "execution_count": 30,
   "id": "84446302-3ac6-4e07-829a-7fb9806ec6ee",
   "metadata": {},
   "outputs": [
    {
     "data": {
      "text/plain": [
       "Free    8902\n",
       "Paid     756\n",
       "Name: priceR, dtype: int64"
      ]
     },
     "execution_count": 30,
     "metadata": {},
     "output_type": "execute_result"
    }
   ],
   "source": [
    "GooglePlay.priceR.value_counts()"
   ]
  },
  {
   "cell_type": "markdown",
   "id": "3560396e-5cde-4573-9285-9ad9a6f1fcdf",
   "metadata": {},
   "source": [
    "There are 8902 apps available to download for free, and 756 will have some type of cost."
   ]
  },
  {
   "cell_type": "markdown",
   "id": "ed98e8ce-9023-46c3-9465-9027e86a9d55",
   "metadata": {},
   "source": [
    "# Testing Assumptions"
   ]
  },
  {
   "cell_type": "markdown",
   "id": "d2d290f2-63f1-4dd1-88c0-a21ab699a9e9",
   "metadata": {},
   "source": [
    "Next, I had to test assumptions."
   ]
  },
  {
   "cell_type": "markdown",
   "id": "8856425f-5241-44dd-a690-fd1ef26bea05",
   "metadata": {},
   "source": [
    "I will use an independent t-test to determine whether free and paid apps are significantly different. First, I will have to test for normality."
   ]
  },
  {
   "cell_type": "code",
   "execution_count": 31,
   "id": "c314bfc6-00f8-4b02-a09a-74921222ec2c",
   "metadata": {},
   "outputs": [
    {
     "data": {
      "text/plain": [
       "<AxesSubplot:>"
      ]
     },
     "execution_count": 31,
     "metadata": {},
     "output_type": "execute_result"
    },
    {
     "data": {
      "image/png": "[encoded data removed]",
      "text/plain": [
       "<Figure size 432x288 with 1 Axes>"
      ]
     },
     "metadata": {
      "needs_background": "light"
     },
     "output_type": "display_data"
    }
   ],
   "source": [
    "GooglePlay.ratingR[GooglePlay.priceR == 'Free'].hist()"
   ]
  },
  {
   "cell_type": "code",
   "execution_count": 32,
   "id": "346b6e87-2e3b-48cf-8a18-ff8bc2613cd7",
   "metadata": {},
   "outputs": [
    {
     "data": {
      "text/plain": [
       "<AxesSubplot:>"
      ]
     },
     "execution_count": 32,
     "metadata": {},
     "output_type": "execute_result"
    },
    {
     "data": {
      "image/png": "[encoded data removed]",
      "text/plain": [
       "<Figure size 432x288 with 1 Axes>"
      ]
     },
     "metadata": {
      "needs_background": "light"
     },
     "output_type": "display_data"
    }
   ],
   "source": [
    "GooglePlay.ratingR[GooglePlay.priceR == 'Paid'].hist()"
   ]
  },
  {
   "cell_type": "markdown",
   "id": "c99e26e3-37d7-47dc-b157-c726b4584a40",
   "metadata": {},
   "source": [
    "In order to test for normality in my data, I plotted my data and noticed it was negatively skewed. I will continue with this data."
   ]
  },
  {
   "cell_type": "code",
   "execution_count": 55,
   "id": "8e0fe7a1-6f8c-41fb-a9d3-0f881542e092",
   "metadata": {},
   "outputs": [],
   "source": [
    " # runs independent ttest."
   ]
  },
  {
   "cell_type": "code",
   "execution_count": 33,
   "id": "84f728b1-e93c-45e4-96d0-6d3bb69d3208",
   "metadata": {},
   "outputs": [
    {
     "data": {
      "text/plain": [
       "Ttest_indResult(statistic=-4.317008786866272, pvalue=1.597357090633148e-05)"
      ]
     },
     "execution_count": 33,
     "metadata": {},
     "output_type": "execute_result"
    }
   ],
   "source": [
    "ttest_ind(GooglePlay.ratingR[GooglePlay.priceR == 'Free'], GooglePlay.ratingR[GooglePlay.priceR == 'Paid'])"
   ]
  },
  {
   "cell_type": "markdown",
   "id": "10bb7ed5-a426-4c90-bf4d-3082809b2855",
   "metadata": {},
   "source": [
    "Test shows a significant difference between free and paid apps. I will now transform skewed data and run analysis again."
   ]
  },
  {
   "cell_type": "code",
   "execution_count": 56,
   "id": "d74d379e-a5a3-42c2-92eb-60a34dd3e37f",
   "metadata": {},
   "outputs": [],
   "source": [
    "# Transforms skewed data into a new column"
   ]
  },
  {
   "cell_type": "code",
   "execution_count": 34,
   "id": "001a27c3-b846-4cfc-baa5-a106d2779c81",
   "metadata": {},
   "outputs": [],
   "source": [
    "GooglePlay['ratingSQ'] = GooglePlay['ratingR']**2 "
   ]
  },
  {
   "cell_type": "code",
   "execution_count": 35,
   "id": "ba4515d2-03ce-46cb-a0ab-a322a75d64c4",
   "metadata": {},
   "outputs": [
    {
     "data": {
      "text/plain": [
       "<AxesSubplot:>"
      ]
     },
     "execution_count": 35,
     "metadata": {},
     "output_type": "execute_result"
    },
    {
     "data": {
      "image/png": "[encoded data removed]",
      "text/plain": [
       "<Figure size 432x288 with 1 Axes>"
      ]
     },
     "metadata": {
      "needs_background": "light"
     },
     "output_type": "display_data"
    }
   ],
   "source": [
    "GooglePlay.ratingSQ.hist()"
   ]
  },
  {
   "cell_type": "markdown",
   "id": "437011ef-88f2-4e4b-b96c-63af44c9e9f5",
   "metadata": {},
   "source": [
    "Data is not normal, will continue transforming data."
   ]
  },
  {
   "cell_type": "code",
   "execution_count": 36,
   "id": "ccacf8f4-6ccb-407d-be10-d68c6bef6e85",
   "metadata": {},
   "outputs": [],
   "source": [
    "GooglePlay['ratingCUBE'] = GooglePlay['ratingR']**3"
   ]
  },
  {
   "cell_type": "code",
   "execution_count": 37,
   "id": "7ffdd054-f73c-47f3-8b2e-52bb9c455c5e",
   "metadata": {},
   "outputs": [
    {
     "data": {
      "text/plain": [
       "<AxesSubplot:>"
      ]
     },
     "execution_count": 37,
     "metadata": {},
     "output_type": "execute_result"
    },
    {
     "data": {
      "image/png": "[encoded data removed]",
      "text/plain": [
       "<Figure size 432x288 with 1 Axes>"
      ]
     },
     "metadata": {
      "needs_background": "light"
     },
     "output_type": "display_data"
    }
   ],
   "source": [
    "GooglePlay.ratingCUBE.hist()"
   ]
  },
  {
   "cell_type": "markdown",
   "id": "0a86a375-6224-4dbe-99ce-b4c73581e466",
   "metadata": {},
   "source": [
    "Data looks more normal. Will use 'ratingCUBE' for analysis."
   ]
  },
  {
   "cell_type": "code",
   "execution_count": 38,
   "id": "93b9a7e9-0af8-4859-a1f9-451258305dfd",
   "metadata": {},
   "outputs": [
    {
     "data": {
      "text/plain": [
       "<AxesSubplot:>"
      ]
     },
     "execution_count": 38,
     "metadata": {},
     "output_type": "execute_result"
    },
    {
     "data": {
      "image/png": "[encoded data removed]",
      "text/plain": [
       "<Figure size 432x288 with 1 Axes>"
      ]
     },
     "metadata": {
      "needs_background": "light"
     },
     "output_type": "display_data"
    }
   ],
   "source": [
    "GooglePlay.ratingCUBE[GooglePlay.priceR == 'Free'].hist()"
   ]
  },
  {
   "cell_type": "code",
   "execution_count": 39,
   "id": "a34ee572-8721-4332-86c8-62173e26cac5",
   "metadata": {},
   "outputs": [
    {
     "data": {
      "text/plain": [
       "<AxesSubplot:>"
      ]
     },
     "execution_count": 39,
     "metadata": {},
     "output_type": "execute_result"
    },
    {
     "data": {
      "image/png": "[encoded data removed]",
      "text/plain": [
       "<Figure size 432x288 with 1 Axes>"
      ]
     },
     "metadata": {
      "needs_background": "light"
     },
     "output_type": "display_data"
    }
   ],
   "source": [
    "GooglePlay.ratingCUBE[GooglePlay.priceR == 'Paid'].hist()"
   ]
  },
  {
   "cell_type": "markdown",
   "id": "bc2d65cf-5d8f-43d0-9792-5e6bc951c3a0",
   "metadata": {},
   "source": [
    "# Run Analysis"
   ]
  },
  {
   "cell_type": "markdown",
   "id": "6e568e2e-9132-44b8-b0b5-7333d15b2ba4",
   "metadata": {},
   "source": [
    "Now, I will run the independent t-test on transformed data."
   ]
  },
  {
   "cell_type": "code",
   "execution_count": 40,
   "id": "0ad3db05-aed9-4dfc-819e-917071472ef1",
   "metadata": {},
   "outputs": [
    {
     "data": {
      "text/plain": [
       "Ttest_indResult(statistic=-5.315062192264318, pvalue=1.0899937302281937e-07)"
      ]
     },
     "execution_count": 40,
     "metadata": {},
     "output_type": "execute_result"
    }
   ],
   "source": [
    "ttest_ind(GooglePlay.ratingCUBE[GooglePlay.priceR == 'Free'], GooglePlay.ratingCUBE[GooglePlay.priceR == 'Paid'])"
   ]
  },
  {
   "cell_type": "markdown",
   "id": "16e3b778-91e4-4b3b-86cc-7a8df45be5d6",
   "metadata": {},
   "source": [
    " Voila! Test showed a significant difference with a p-value of 1.09 E-7. "
   ]
  },
  {
   "cell_type": "markdown",
   "id": "df61c8f5-cc1e-4c3f-94e3-0b8f86b812c3",
   "metadata": {},
   "source": [
    "Now, I wanted to see which group had the highest ratings, so I calculated the average rating for each group."
   ]
  },
  {
   "cell_type": "code",
   "execution_count": 57,
   "id": "597b1203-d35c-4a32-9f15-9802331cd659",
   "metadata": {},
   "outputs": [],
   "source": [
    " # shows the mean rating between free apps."
   ]
  },
  {
   "cell_type": "code",
   "execution_count": 41,
   "id": "b0d635e4-e36f-4c95-8914-c21f0d5751d4",
   "metadata": {},
   "outputs": [
    {
     "data": {
      "text/plain": [
       "4.165890573015529"
      ]
     },
     "execution_count": 41,
     "metadata": {},
     "output_type": "execute_result"
    }
   ],
   "source": [
    "GooglePlay.ratingR[GooglePlay.priceR == 'Free'].mean()"
   ]
  },
  {
   "cell_type": "code",
   "execution_count": 58,
   "id": "1042c3e9-99dc-4c5e-9e7a-f2fc4c19fb03",
   "metadata": {},
   "outputs": [],
   "source": [
    " # shows the mean rating between paid apps."
   ]
  },
  {
   "cell_type": "code",
   "execution_count": 42,
   "id": "39c147a0-710c-472a-a2e6-5d9e78ced5b3",
   "metadata": {},
   "outputs": [
    {
     "data": {
      "text/plain": [
       "4.246869691456635"
      ]
     },
     "execution_count": 42,
     "metadata": {},
     "output_type": "execute_result"
    }
   ],
   "source": [
    "GooglePlay.ratingR[GooglePlay.priceR == 'Paid'].mean()"
   ]
  },
  {
   "cell_type": "markdown",
   "id": "ab044993-bfb0-4fe3-a7b4-f56106239802",
   "metadata": {},
   "source": [
    "The average rating for the free applications was 4.17, while the average rating for the paid applications was 4.25. Paid apps have a slightly higher average rating than free apps. but hmmm... Doesnt seem like there was much of a difference. Despite a significant difference in the test, further examination shows that the difference is not noteworthy.Although the tests show a significant difference, further exploration reveals that the average ratings between free and paid applications aren't very different. Paid apps have a slighter higher average rating than free apps. "
   ]
  },
  {
   "cell_type": "markdown",
   "id": "7f1dfa7e-4c64-4484-9b22-84bc69e5450b",
   "metadata": {},
   "source": [
    "Even though I did not find a significant difference, I was determined to learn something about this dataset."
   ]
  },
  {
   "cell_type": "code",
   "execution_count": 43,
   "id": "f9d6a12b-6eb5-412a-b306-53d6e7a65430",
   "metadata": {},
   "outputs": [],
   "source": [
    "GP = GooglePlay.drop(['ratingSQ','ratingCUBE'], axis=1)"
   ]
  },
  {
   "cell_type": "code",
   "execution_count": 44,
   "id": "9ad600e5-a119-4880-baef-c202932135ae",
   "metadata": {},
   "outputs": [],
   "source": [
    "GPfree = GP[GP.priceR.isin(['Free',])] # Creates new dataframe with only free apps.\n",
    "GPpaid = GP[GP.priceR.isin(['Paid',])] # Creates new dataframe with only paid apps."
   ]
  },
  {
   "cell_type": "code",
   "execution_count": 45,
   "id": "283cf95b-c3d1-4336-aec5-2dc55f883dd6",
   "metadata": {},
   "outputs": [
    {
     "data": {
      "text/html": [
       "<div>\n",
       "<style scoped>\n",
       "    .dataframe tbody tr th:only-of-type {\n",
       "        vertical-align: middle;\n",
       "    }\n",
       "\n",
       "    .dataframe tbody tr th {\n",
       "        vertical-align: top;\n",
       "    }\n",
       "\n",
       "    .dataframe thead th {\n",
       "        text-align: right;\n",
       "    }\n",
       "</style>\n",
       "<table border=\"1\" class=\"dataframe\">\n",
       "  <thead>\n",
       "    <tr style=\"text-align: right;\">\n",
       "      <th></th>\n",
       "      <th>category</th>\n",
       "      <th>reviews</th>\n",
       "      <th>installs</th>\n",
       "      <th>price</th>\n",
       "      <th>content_rating</th>\n",
       "      <th>update_year</th>\n",
       "      <th>ratingR</th>\n",
       "      <th>priceR</th>\n",
       "    </tr>\n",
       "  </thead>\n",
       "  <tbody>\n",
       "    <tr>\n",
       "      <th>0</th>\n",
       "      <td>ART_AND_DESIGN</td>\n",
       "      <td>159</td>\n",
       "      <td>10000</td>\n",
       "      <td>0.0</td>\n",
       "      <td>Everyone</td>\n",
       "      <td>2018</td>\n",
       "      <td>4.1</td>\n",
       "      <td>Free</td>\n",
       "    </tr>\n",
       "    <tr>\n",
       "      <th>1</th>\n",
       "      <td>ART_AND_DESIGN</td>\n",
       "      <td>967</td>\n",
       "      <td>500000</td>\n",
       "      <td>0.0</td>\n",
       "      <td>Everyone</td>\n",
       "      <td>2018</td>\n",
       "      <td>3.9</td>\n",
       "      <td>Free</td>\n",
       "    </tr>\n",
       "    <tr>\n",
       "      <th>2</th>\n",
       "      <td>ART_AND_DESIGN</td>\n",
       "      <td>87510</td>\n",
       "      <td>5000000</td>\n",
       "      <td>0.0</td>\n",
       "      <td>Everyone</td>\n",
       "      <td>2018</td>\n",
       "      <td>4.7</td>\n",
       "      <td>Free</td>\n",
       "    </tr>\n",
       "    <tr>\n",
       "      <th>3</th>\n",
       "      <td>ART_AND_DESIGN</td>\n",
       "      <td>215644</td>\n",
       "      <td>50000000</td>\n",
       "      <td>0.0</td>\n",
       "      <td>Teen</td>\n",
       "      <td>2018</td>\n",
       "      <td>4.5</td>\n",
       "      <td>Free</td>\n",
       "    </tr>\n",
       "    <tr>\n",
       "      <th>4</th>\n",
       "      <td>ART_AND_DESIGN</td>\n",
       "      <td>967</td>\n",
       "      <td>100000</td>\n",
       "      <td>0.0</td>\n",
       "      <td>Everyone</td>\n",
       "      <td>2018</td>\n",
       "      <td>4.3</td>\n",
       "      <td>Free</td>\n",
       "    </tr>\n",
       "  </tbody>\n",
       "</table>\n",
       "</div>"
      ],
      "text/plain": [
       "         category  reviews  installs  price content_rating  update_year  \\\n",
       "0  ART_AND_DESIGN      159     10000    0.0       Everyone         2018   \n",
       "1  ART_AND_DESIGN      967    500000    0.0       Everyone         2018   \n",
       "2  ART_AND_DESIGN    87510   5000000    0.0       Everyone         2018   \n",
       "3  ART_AND_DESIGN   215644  50000000    0.0           Teen         2018   \n",
       "4  ART_AND_DESIGN      967    100000    0.0       Everyone         2018   \n",
       "\n",
       "   ratingR priceR  \n",
       "0      4.1   Free  \n",
       "1      3.9   Free  \n",
       "2      4.7   Free  \n",
       "3      4.5   Free  \n",
       "4      4.3   Free  "
      ]
     },
     "execution_count": 45,
     "metadata": {},
     "output_type": "execute_result"
    }
   ],
   "source": [
    "GPfree.head()"
   ]
  },
  {
   "cell_type": "code",
   "execution_count": 46,
   "id": "586f24ec-44d7-4cb6-b6da-eef16e3f967f",
   "metadata": {},
   "outputs": [
    {
     "data": {
      "text/html": [
       "<div>\n",
       "<style scoped>\n",
       "    .dataframe tbody tr th:only-of-type {\n",
       "        vertical-align: middle;\n",
       "    }\n",
       "\n",
       "    .dataframe tbody tr th {\n",
       "        vertical-align: top;\n",
       "    }\n",
       "\n",
       "    .dataframe thead th {\n",
       "        text-align: right;\n",
       "    }\n",
       "</style>\n",
       "<table border=\"1\" class=\"dataframe\">\n",
       "  <thead>\n",
       "    <tr style=\"text-align: right;\">\n",
       "      <th></th>\n",
       "      <th>category</th>\n",
       "      <th>reviews</th>\n",
       "      <th>installs</th>\n",
       "      <th>price</th>\n",
       "      <th>content_rating</th>\n",
       "      <th>update_year</th>\n",
       "      <th>ratingR</th>\n",
       "      <th>priceR</th>\n",
       "    </tr>\n",
       "  </thead>\n",
       "  <tbody>\n",
       "    <tr>\n",
       "      <th>233</th>\n",
       "      <td>BUSINESS</td>\n",
       "      <td>11442</td>\n",
       "      <td>100000</td>\n",
       "      <td>4.99</td>\n",
       "      <td>Everyone</td>\n",
       "      <td>2018</td>\n",
       "      <td>4.7</td>\n",
       "      <td>Paid</td>\n",
       "    </tr>\n",
       "    <tr>\n",
       "      <th>234</th>\n",
       "      <td>BUSINESS</td>\n",
       "      <td>10295</td>\n",
       "      <td>100000</td>\n",
       "      <td>4.99</td>\n",
       "      <td>Everyone</td>\n",
       "      <td>2017</td>\n",
       "      <td>4.8</td>\n",
       "      <td>Paid</td>\n",
       "    </tr>\n",
       "    <tr>\n",
       "      <th>372</th>\n",
       "      <td>COMMUNICATION</td>\n",
       "      <td>18247</td>\n",
       "      <td>100000</td>\n",
       "      <td>3.99</td>\n",
       "      <td>Everyone</td>\n",
       "      <td>2018</td>\n",
       "      <td>4.0</td>\n",
       "      <td>Paid</td>\n",
       "    </tr>\n",
       "    <tr>\n",
       "      <th>406</th>\n",
       "      <td>DATING</td>\n",
       "      <td>1545</td>\n",
       "      <td>10000</td>\n",
       "      <td>3.99</td>\n",
       "      <td>Mature 17+</td>\n",
       "      <td>2018</td>\n",
       "      <td>4.2</td>\n",
       "      <td>Paid</td>\n",
       "    </tr>\n",
       "    <tr>\n",
       "      <th>407</th>\n",
       "      <td>DATING</td>\n",
       "      <td>57</td>\n",
       "      <td>1000</td>\n",
       "      <td>6.99</td>\n",
       "      <td>Everyone</td>\n",
       "      <td>2017</td>\n",
       "      <td>2.6</td>\n",
       "      <td>Paid</td>\n",
       "    </tr>\n",
       "  </tbody>\n",
       "</table>\n",
       "</div>"
      ],
      "text/plain": [
       "          category  reviews  installs  price content_rating  update_year  \\\n",
       "233       BUSINESS    11442    100000   4.99       Everyone         2018   \n",
       "234       BUSINESS    10295    100000   4.99       Everyone         2017   \n",
       "372  COMMUNICATION    18247    100000   3.99       Everyone         2018   \n",
       "406         DATING     1545     10000   3.99     Mature 17+         2018   \n",
       "407         DATING       57      1000   6.99       Everyone         2017   \n",
       "\n",
       "     ratingR priceR  \n",
       "233      4.7   Paid  \n",
       "234      4.8   Paid  \n",
       "372      4.0   Paid  \n",
       "406      4.2   Paid  \n",
       "407      2.6   Paid  "
      ]
     },
     "execution_count": 46,
     "metadata": {},
     "output_type": "execute_result"
    }
   ],
   "source": [
    "GPpaid.head()"
   ]
  },
  {
   "cell_type": "code",
   "execution_count": 59,
   "id": "ba2a329a-68d6-440e-b145-b0989aaad3a2",
   "metadata": {},
   "outputs": [],
   "source": [
    " # Shows the categories with the highest average ratings between free apps."
   ]
  },
  {
   "cell_type": "code",
   "execution_count": 47,
   "id": "67c19607-d2b0-49f4-b130-a0f31f0239ec",
   "metadata": {},
   "outputs": [
    {
     "data": {
      "text/plain": [
       "category\n",
       "EVENTS                 4.435556\n",
       "EDUCATION              4.350995\n",
       "BOOKS_AND_REFERENCE    4.347856\n",
       "ART_AND_DESIGN         4.338887\n",
       "PARENTING              4.332759\n",
       "PERSONALIZATION        4.306771\n",
       "BEAUTY                 4.278571\n",
       "SOCIAL                 4.251929\n",
       "HEALTH_AND_FITNESS     4.237074\n",
       "GAME                   4.236536\n",
       "WEATHER                4.230399\n",
       "SHOPPING               4.227300\n",
       "SPORTS                 4.213348\n",
       "AUTO_AND_VEHICLES      4.185416\n",
       "PRODUCTIVITY           4.182236\n",
       "COMICS                 4.181481\n",
       "LIBRARIES_AND_DEMO     4.178125\n",
       "FAMILY                 4.169936\n",
       "FOOD_AND_DRINK         4.169110\n",
       "PHOTOGRAPHY            4.165663\n",
       "MEDICAL                4.152746\n",
       "HOUSE_AND_HOME         4.150000\n",
       "FINANCE                4.126850\n",
       "ENTERTAINMENT          4.126000\n",
       "COMMUNICATION          4.125903\n",
       "NEWS_AND_MAGAZINES     4.116184\n",
       "BUSINESS               4.098936\n",
       "LIFESTYLE              4.085299\n",
       "TRAVEL_AND_LOCAL       4.068341\n",
       "MAPS_AND_NAVIGATION    4.043442\n",
       "VIDEO_PLAYERS          4.043201\n",
       "TOOLS                  4.028596\n",
       "DATING                 3.979910\n",
       "Name: ratingR, dtype: float64"
      ]
     },
     "execution_count": 47,
     "metadata": {},
     "output_type": "execute_result"
    }
   ],
   "source": [
    "GPfree.groupby('category')['ratingR'].mean().sort_values(ascending=False)"
   ]
  },
  {
   "cell_type": "code",
   "execution_count": 60,
   "id": "f7ec02d1-af98-469d-a929-7dbd2a94ebbd",
   "metadata": {},
   "outputs": [],
   "source": [
    "# Shows the categories with the highest average ratings between paid apps."
   ]
  },
  {
   "cell_type": "code",
   "execution_count": 48,
   "id": "5f2395ef-0376-47dc-bc54-885455090695",
   "metadata": {},
   "outputs": [
    {
     "data": {
      "text/plain": [
       "category\n",
       "NEWS_AND_MAGAZINES     4.800000\n",
       "EDUCATION              4.750000\n",
       "ART_AND_DESIGN         4.733333\n",
       "ENTERTAINMENT          4.600000\n",
       "SHOPPING               4.500000\n",
       "EVENTS                 4.435556\n",
       "PERSONALIZATION        4.424882\n",
       "GAME                   4.363222\n",
       "WEATHER                4.355382\n",
       "HEALTH_AND_FITNESS     4.351475\n",
       "FOOD_AND_DRINK         4.350000\n",
       "AUTO_AND_VEHICLES      4.326941\n",
       "BOOKS_AND_REFERENCE    4.324979\n",
       "FAMILY                 4.267269\n",
       "SPORTS                 4.251346\n",
       "LIFESTYLE              4.241756\n",
       "MEDICAL                4.218446\n",
       "PRODUCTIVITY           4.197639\n",
       "LIBRARIES_AND_DEMO     4.178125\n",
       "TOOLS                  4.144786\n",
       "VIDEO_PLAYERS          4.100000\n",
       "TRAVEL_AND_LOCAL       4.089840\n",
       "BUSINESS               4.082953\n",
       "COMMUNICATION          4.074349\n",
       "PHOTOGRAPHY            4.043666\n",
       "FINANCE                3.897780\n",
       "SOCIAL                 3.882430\n",
       "MAPS_AND_NAVIGATION    3.860000\n",
       "DATING                 3.701741\n",
       "PARENTING              3.350000\n",
       "Name: ratingR, dtype: float64"
      ]
     },
     "execution_count": 48,
     "metadata": {},
     "output_type": "execute_result"
    }
   ],
   "source": [
    "GPpaid.groupby('category')['ratingR'].mean().sort_values(ascending=False) "
   ]
  },
  {
   "cell_type": "markdown",
   "id": "a34cc2ec-d853-4f20-aeb7-35a2dded5f08",
   "metadata": {},
   "source": [
    "'Events' is the highest rating category for free apps, but 'News_And_Magazines' take the number one rated category within paid apps. The difference in rating between the top and last category is more significant with paid applications. The rating is notable when comparing each category individually.I discovered that the top rated categories differed for each group. Under free applications, 'books and reference' was rated third while the first two categories remained unchanged. On the other hand, under the paid applications, 'news and magazines' topped the list, while the second and third places remained the same. The difference in rating for the top three categories is also notable. Is this why the independent t test showed a significant difference?"
   ]
  },
  {
   "cell_type": "markdown",
   "id": "0d7951ee-f9de-452c-8c60-43ca55a1e793",
   "metadata": {},
   "source": [
    "3. What are other differences between free and paid apps?"
   ]
  },
  {
   "cell_type": "markdown",
   "id": "fe5d5661-a2d8-43e8-b2d9-268587c68e11",
   "metadata": {},
   "source": [
    "In comparing the two groups, I realized that the categories with the most installs differed between free and paid applications."
   ]
  },
  {
   "cell_type": "code",
   "execution_count": 61,
   "id": "9ae73d88-38e0-4c54-8839-12312786d7ee",
   "metadata": {},
   "outputs": [],
   "source": [
    "# Shows the categories with the total installs for free apps."
   ]
  },
  {
   "cell_type": "code",
   "execution_count": 49,
   "id": "bbe322ec-f9dd-4fb3-9079-31c12fee8a61",
   "metadata": {},
   "outputs": [
    {
     "data": {
      "text/plain": [
       "category\n",
       "GAME                   13857924450\n",
       "COMMUNICATION          11036916201\n",
       "TOOLS                   8000044474\n",
       "PRODUCTIVITY            5791679314\n",
       "SOCIAL                  5487861902\n",
       "PHOTOGRAPHY             4647268915\n",
       "FAMILY                  4407291691\n",
       "VIDEO_PLAYERS           3926831720\n",
       "TRAVEL_AND_LOCAL        2894704086\n",
       "NEWS_AND_MAGAZINES      2369212260\n",
       "ENTERTAINMENT           2113460000\n",
       "BOOKS_AND_REFERENCE     1665946260\n",
       "PERSONALIZATION         1529235988\n",
       "SHOPPING                1400338685\n",
       "HEALTH_AND_FITNESS      1143548402\n",
       "SPORTS                  1095230683\n",
       "BUSINESS                 696952090\n",
       "MAPS_AND_NAVIGATION      503160790\n",
       "LIFESTYLE                502644429\n",
       "FINANCE                  455163132\n",
       "WEATHER                  360288520\n",
       "EDUCATION                352350000\n",
       "FOOD_AND_DRINK           211738751\n",
       "DATING                   140914757\n",
       "ART_AND_DESIGN           114322100\n",
       "HOUSE_AND_HOME            97212461\n",
       "AUTO_AND_VEHICLES         53080061\n",
       "LIBRARIES_AND_DEMO        52995810\n",
       "COMICS                    44981150\n",
       "MEDICAL                   37632344\n",
       "PARENTING                 31471010\n",
       "BEAUTY                    27197050\n",
       "EVENTS                    15973160\n",
       "Name: installs, dtype: int64"
      ]
     },
     "execution_count": 49,
     "metadata": {},
     "output_type": "execute_result"
    }
   ],
   "source": [
    "GPfree.groupby('category')['installs'].sum().sort_values(ascending=False) "
   ]
  },
  {
   "cell_type": "code",
   "execution_count": 62,
   "id": "3eb1f349-d2da-4c42-b442-da2c2318e626",
   "metadata": {},
   "outputs": [],
   "source": [
    "# Shows the categories with the total installs between paid."
   ]
  },
  {
   "cell_type": "code",
   "execution_count": 50,
   "id": "7e57b1fb-e4d5-4a53-98f5-8b150ea7f392",
   "metadata": {},
   "outputs": [
    {
     "data": {
      "text/plain": [
       "category\n",
       "GAME                   20999965\n",
       "FAMILY                 20649814\n",
       "PERSONALIZATION         3258794\n",
       "PHOTOGRAPHY             1878740\n",
       "TOOLS                   1727441\n",
       "PRODUCTIVITY            1412055\n",
       "COMMUNICATION           1360050\n",
       "SPORTS                  1243815\n",
       "LIFESTYLE               1179110\n",
       "WEATHER                  812000\n",
       "EDUCATION                602000\n",
       "MEDICAL                  560833\n",
       "HEALTH_AND_FITNESS       474110\n",
       "BUSINESS                 212775\n",
       "ENTERTAINMENT            200000\n",
       "FINANCE                  185602\n",
       "TRAVEL_AND_LOCAL         183060\n",
       "MAPS_AND_NAVIGATION      121100\n",
       "VIDEO_PLAYERS             71000\n",
       "FOOD_AND_DRINK            60000\n",
       "AUTO_AND_VEHICLES         50150\n",
       "PARENTING                 50100\n",
       "BOOKS_AND_REFERENCE       23316\n",
       "ART_AND_DESIGN            16000\n",
       "DATING                    11350\n",
       "SHOPPING                  10100\n",
       "SOCIAL                     6000\n",
       "NEWS_AND_MAGAZINES         5500\n",
       "LIBRARIES_AND_DEMO          100\n",
       "EVENTS                        1\n",
       "Name: installs, dtype: int64"
      ]
     },
     "execution_count": 50,
     "metadata": {},
     "output_type": "execute_result"
    }
   ],
   "source": [
    "GPpaid.groupby('category')['installs'].sum().sort_values(ascending=False) "
   ]
  },
  {
   "cell_type": "markdown",
   "id": "0f16ae92-0c84-4635-80ef-3f7b7f417dad",
   "metadata": {},
   "source": [
    "While 'Games' remained the top category for both groups, 'Family' and 'Personalization' took the second and third spots in paid applications. However it remained the same for free applications. Upon deeper exploration, I also found that many Family apps are also games. There is no doubt that applications have become a source of entertainment for many of us!The top categories with the most installs between paid apps are 'Games','Family', and taking the third spot is 'Personalization'."
   ]
  },
  {
   "cell_type": "markdown",
   "id": "58450520-2bb2-40fc-8278-4c06391768c5",
   "metadata": {},
   "source": [
    "# Summary"
   ]
  },
  {
   "cell_type": "markdown",
   "id": "959c5c0d-2b6d-4409-b53d-18d96fa9b70b",
   "metadata": {},
   "source": [
    "Overall, I learned a lot from this dataset.\n",
    "\n",
    "1. Installs and reviews are strongly correlated.\n",
    "\n",
    "2. 'Games' are the most installed category of all applications.\n",
    "\n",
    "3. When comparing each category individually, the difference between free and paid apps is notable even though the average rating does not show much of a difference.\n",
    "\n",
    "4. Top rated categories differ between free and paid applications."
   ]
  },
  {
   "cell_type": "code",
   "execution_count": null,
   "id": "f37ed0ac-147a-4d58-8ea3-7134f9ff73b4",
   "metadata": {},
   "outputs": [],
   "source": []
  }
 ],
 "metadata": {
  "kernelspec": {
   "display_name": "Python 3 (ipykernel)",
   "language": "python",
   "name": "python3"
  },
  "language_info": {
   "codemirror_mode": {
    "name": "ipython",
    "version": 3
   },
   "file_extension": ".py",
   "mimetype": "text/x-python",
   "name": "python",
   "nbconvert_exporter": "python",
   "pygments_lexer": "ipython3",
   "version": "3.10.5"
  }
 },
 "nbformat": 4,
 "nbformat_minor": 5
}
